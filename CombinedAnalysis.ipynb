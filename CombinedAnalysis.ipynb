{
 "cells": [
  {
   "cell_type": "markdown",
   "source": [
    "Initialization"
   ],
   "metadata": {
    "collapsed": false
   }
  },
  {
   "cell_type": "code",
   "execution_count": 2,
   "outputs": [],
   "source": [
    "import pandas as pd;\n",
    "import numpy as np;\n",
    "import plotly.express as px\n"
   ],
   "metadata": {
    "collapsed": false
   }
  },
  {
   "cell_type": "code",
   "execution_count": 3,
   "outputs": [],
   "source": [
    "artists=pd.read_csv(\"data/artists.csv\")\n",
    "tracks = pd.read_csv(\"data/tracks.csv\")\n",
    "tracks[\"id_artists\"] = tracks[\"id_artists\"].apply(lambda x: x.strip('][').split(','))  #convert arrays\n",
    "\n",
    "tracks[\"id_artists\"]=tracks[\"id_artists\"].apply(lambda x:x[0].replace(\"'\",\"\"))\n",
    "combinedDf=tracks.merge(artists,left_on=\"id_artists\",right_on=\"id\")\n",
    "combinedDf=combinedDf.rename(columns={\"name_x\":'title',\"name_y\":\"artist_name\", \"popularity_x\":\"song_popularity\",\"popularity_y\":\"artist_popularity\",\"id_x\":\"song_id\",\"id_y\":\"artist_id\",\"macro genre\":\"artist_genre\"})"
   ],
   "metadata": {
    "collapsed": false
   }
  },
  {
   "cell_type": "code",
   "execution_count": 4,
   "outputs": [],
   "source": [],
   "metadata": {
    "collapsed": false
   }
  },
  {
   "cell_type": "code",
   "execution_count": 4,
   "outputs": [
    {
     "data": {
      "text/plain": "                       song_id                                title  \\\n218042  0ytvC9tG03obop9RXqG3af  Out In L.A. - 2002 Digital Remaster   \n218043  0fZu9ojDt6XZLDg6dos2EM  If You Want Me To Stay - Remastered   \n218044  3eiIQPGp6biDu91bKgAEzg                    Me And My Friends   \n218045  6NeRpRTcFftvt3j1vF4Pcw                   Fight Like A Brave   \n218046  5arVt2Wg0zbiWwAOZef2Nl           Higher Ground - Remastered   \n...                        ...                                  ...   \n218206  2h3DA5sidcqjywLh36RFkU                          Coffee Shop   \n218207  6jR4FKWiil1FrsfEMt7jqu                                  Pea   \n218208  4VgylHaBo55VXqX4AiZiyc                            Deep Kick   \n218209  3cWEHEBIJzikXa9xPzMQkC                            Backwoods   \n218210  6ynGyjRka7Jin0xEw4Zm0k                        Fortune Faded   \n\n        song_popularity  duration_ms  explicit                    artists  \\\n218042               53       120667         1  ['Red Hot Chili Peppers']   \n218043               40       247333         0  ['Red Hot Chili Peppers']   \n218044               53       189133         0  ['Red Hot Chili Peppers']   \n218045               43       233760         0  ['Red Hot Chili Peppers']   \n218046               67       202053         0  ['Red Hot Chili Peppers']   \n...                 ...          ...       ...                        ...   \n218206               41       188933         0  ['Red Hot Chili Peppers']   \n218207               39       107307         1  ['Red Hot Chili Peppers']   \n218208               38       393907         1  ['Red Hot Chili Peppers']   \n218209               35       188227         0  ['Red Hot Chili Peppers']   \n218210               24       201267         0  ['Red Hot Chili Peppers']   \n\n                    id_artists release_date  danceability  energy  ...  \\\n218042  0L8ExT028jH3ddEcZwqJJ5   1984-08-10         0.772   0.888  ...   \n218043  0L8ExT028jH3ddEcZwqJJ5   1985-08-16         0.829   0.791  ...   \n218044  0L8ExT028jH3ddEcZwqJJ5         1987         0.580   0.996  ...   \n218045  0L8ExT028jH3ddEcZwqJJ5         1987         0.719   0.936  ...   \n218046  0L8ExT028jH3ddEcZwqJJ5   1989-08-16         0.476   0.979  ...   \n...                        ...          ...           ...     ...  ...   \n218206  0L8ExT028jH3ddEcZwqJJ5   1995-09-12         0.496   0.978  ...   \n218207  0L8ExT028jH3ddEcZwqJJ5   1995-09-12         0.609   0.111  ...   \n218208  0L8ExT028jH3ddEcZwqJJ5   1995-09-12         0.464   0.918  ...   \n218209  0L8ExT028jH3ddEcZwqJJ5         1987         0.578   0.957  ...   \n218210  0L8ExT028jH3ddEcZwqJJ5   2003-11-18         0.524   0.946  ...   \n\n        valence    tempo  time_signature               artist_id   followers  \\\n218042    0.706  124.646               4  0L8ExT028jH3ddEcZwqJJ5  15797256.0   \n218043    0.794  100.477               4  0L8ExT028jH3ddEcZwqJJ5  15797256.0   \n218044    0.202  100.460               4  0L8ExT028jH3ddEcZwqJJ5  15797256.0   \n218045    0.276  103.655               4  0L8ExT028jH3ddEcZwqJJ5  15797256.0   \n218046    0.416  140.404               4  0L8ExT028jH3ddEcZwqJJ5  15797256.0   \n...         ...      ...             ...                     ...         ...   \n218206    0.589  120.898               4  0L8ExT028jH3ddEcZwqJJ5  15797256.0   \n218207    0.298  177.413               4  0L8ExT028jH3ddEcZwqJJ5  15797256.0   \n218208    0.322  117.399               4  0L8ExT028jH3ddEcZwqJJ5  15797256.0   \n218209    0.468  111.074               4  0L8ExT028jH3ddEcZwqJJ5  15797256.0   \n218210    0.613  119.156               4  0L8ExT028jH3ddEcZwqJJ5  15797256.0   \n\n                                                   genres  \\\n218042  ['alternative rock', 'funk metal', 'funk rock'...   \n218043  ['alternative rock', 'funk metal', 'funk rock'...   \n218044  ['alternative rock', 'funk metal', 'funk rock'...   \n218045  ['alternative rock', 'funk metal', 'funk rock'...   \n218046  ['alternative rock', 'funk metal', 'funk rock'...   \n...                                                   ...   \n218206  ['alternative rock', 'funk metal', 'funk rock'...   \n218207  ['alternative rock', 'funk metal', 'funk rock'...   \n218208  ['alternative rock', 'funk metal', 'funk rock'...   \n218209  ['alternative rock', 'funk metal', 'funk rock'...   \n218210  ['alternative rock', 'funk metal', 'funk rock'...   \n\n                  artist_name  artist_popularity  \\\n218042  Red Hot Chili Peppers                 85   \n218043  Red Hot Chili Peppers                 85   \n218044  Red Hot Chili Peppers                 85   \n218045  Red Hot Chili Peppers                 85   \n218046  Red Hot Chili Peppers                 85   \n...                       ...                ...   \n218206  Red Hot Chili Peppers                 85   \n218207  Red Hot Chili Peppers                 85   \n218208  Red Hot Chili Peppers                 85   \n218209  Red Hot Chili Peppers                 85   \n218210  Red Hot Chili Peppers                 85   \n\n                                                TmpGenres  artist_genre  \n218042  [\"'alternative rock'\", \" 'funk metal'\", \" 'fun...          rock  \n218043  [\"'alternative rock'\", \" 'funk metal'\", \" 'fun...          rock  \n218044  [\"'alternative rock'\", \" 'funk metal'\", \" 'fun...          rock  \n218045  [\"'alternative rock'\", \" 'funk metal'\", \" 'fun...          rock  \n218046  [\"'alternative rock'\", \" 'funk metal'\", \" 'fun...          rock  \n...                                                   ...           ...  \n218206  [\"'alternative rock'\", \" 'funk metal'\", \" 'fun...          rock  \n218207  [\"'alternative rock'\", \" 'funk metal'\", \" 'fun...          rock  \n218208  [\"'alternative rock'\", \" 'funk metal'\", \" 'fun...          rock  \n218209  [\"'alternative rock'\", \" 'funk metal'\", \" 'fun...          rock  \n218210  [\"'alternative rock'\", \" 'funk metal'\", \" 'fun...          rock  \n\n[169 rows x 27 columns]",
      "text/html": "<div>\n<style scoped>\n    .dataframe tbody tr th:only-of-type {\n        vertical-align: middle;\n    }\n\n    .dataframe tbody tr th {\n        vertical-align: top;\n    }\n\n    .dataframe thead th {\n        text-align: right;\n    }\n</style>\n<table border=\"1\" class=\"dataframe\">\n  <thead>\n    <tr style=\"text-align: right;\">\n      <th></th>\n      <th>song_id</th>\n      <th>title</th>\n      <th>song_popularity</th>\n      <th>duration_ms</th>\n      <th>explicit</th>\n      <th>artists</th>\n      <th>id_artists</th>\n      <th>release_date</th>\n      <th>danceability</th>\n      <th>energy</th>\n      <th>...</th>\n      <th>valence</th>\n      <th>tempo</th>\n      <th>time_signature</th>\n      <th>artist_id</th>\n      <th>followers</th>\n      <th>genres</th>\n      <th>artist_name</th>\n      <th>artist_popularity</th>\n      <th>TmpGenres</th>\n      <th>artist_genre</th>\n    </tr>\n  </thead>\n  <tbody>\n    <tr>\n      <th>218042</th>\n      <td>0ytvC9tG03obop9RXqG3af</td>\n      <td>Out In L.A. - 2002 Digital Remaster</td>\n      <td>53</td>\n      <td>120667</td>\n      <td>1</td>\n      <td>['Red Hot Chili Peppers']</td>\n      <td>0L8ExT028jH3ddEcZwqJJ5</td>\n      <td>1984-08-10</td>\n      <td>0.772</td>\n      <td>0.888</td>\n      <td>...</td>\n      <td>0.706</td>\n      <td>124.646</td>\n      <td>4</td>\n      <td>0L8ExT028jH3ddEcZwqJJ5</td>\n      <td>15797256.0</td>\n      <td>['alternative rock', 'funk metal', 'funk rock'...</td>\n      <td>Red Hot Chili Peppers</td>\n      <td>85</td>\n      <td>[\"'alternative rock'\", \" 'funk metal'\", \" 'fun...</td>\n      <td>rock</td>\n    </tr>\n    <tr>\n      <th>218043</th>\n      <td>0fZu9ojDt6XZLDg6dos2EM</td>\n      <td>If You Want Me To Stay - Remastered</td>\n      <td>40</td>\n      <td>247333</td>\n      <td>0</td>\n      <td>['Red Hot Chili Peppers']</td>\n      <td>0L8ExT028jH3ddEcZwqJJ5</td>\n      <td>1985-08-16</td>\n      <td>0.829</td>\n      <td>0.791</td>\n      <td>...</td>\n      <td>0.794</td>\n      <td>100.477</td>\n      <td>4</td>\n      <td>0L8ExT028jH3ddEcZwqJJ5</td>\n      <td>15797256.0</td>\n      <td>['alternative rock', 'funk metal', 'funk rock'...</td>\n      <td>Red Hot Chili Peppers</td>\n      <td>85</td>\n      <td>[\"'alternative rock'\", \" 'funk metal'\", \" 'fun...</td>\n      <td>rock</td>\n    </tr>\n    <tr>\n      <th>218044</th>\n      <td>3eiIQPGp6biDu91bKgAEzg</td>\n      <td>Me And My Friends</td>\n      <td>53</td>\n      <td>189133</td>\n      <td>0</td>\n      <td>['Red Hot Chili Peppers']</td>\n      <td>0L8ExT028jH3ddEcZwqJJ5</td>\n      <td>1987</td>\n      <td>0.580</td>\n      <td>0.996</td>\n      <td>...</td>\n      <td>0.202</td>\n      <td>100.460</td>\n      <td>4</td>\n      <td>0L8ExT028jH3ddEcZwqJJ5</td>\n      <td>15797256.0</td>\n      <td>['alternative rock', 'funk metal', 'funk rock'...</td>\n      <td>Red Hot Chili Peppers</td>\n      <td>85</td>\n      <td>[\"'alternative rock'\", \" 'funk metal'\", \" 'fun...</td>\n      <td>rock</td>\n    </tr>\n    <tr>\n      <th>218045</th>\n      <td>6NeRpRTcFftvt3j1vF4Pcw</td>\n      <td>Fight Like A Brave</td>\n      <td>43</td>\n      <td>233760</td>\n      <td>0</td>\n      <td>['Red Hot Chili Peppers']</td>\n      <td>0L8ExT028jH3ddEcZwqJJ5</td>\n      <td>1987</td>\n      <td>0.719</td>\n      <td>0.936</td>\n      <td>...</td>\n      <td>0.276</td>\n      <td>103.655</td>\n      <td>4</td>\n      <td>0L8ExT028jH3ddEcZwqJJ5</td>\n      <td>15797256.0</td>\n      <td>['alternative rock', 'funk metal', 'funk rock'...</td>\n      <td>Red Hot Chili Peppers</td>\n      <td>85</td>\n      <td>[\"'alternative rock'\", \" 'funk metal'\", \" 'fun...</td>\n      <td>rock</td>\n    </tr>\n    <tr>\n      <th>218046</th>\n      <td>5arVt2Wg0zbiWwAOZef2Nl</td>\n      <td>Higher Ground - Remastered</td>\n      <td>67</td>\n      <td>202053</td>\n      <td>0</td>\n      <td>['Red Hot Chili Peppers']</td>\n      <td>0L8ExT028jH3ddEcZwqJJ5</td>\n      <td>1989-08-16</td>\n      <td>0.476</td>\n      <td>0.979</td>\n      <td>...</td>\n      <td>0.416</td>\n      <td>140.404</td>\n      <td>4</td>\n      <td>0L8ExT028jH3ddEcZwqJJ5</td>\n      <td>15797256.0</td>\n      <td>['alternative rock', 'funk metal', 'funk rock'...</td>\n      <td>Red Hot Chili Peppers</td>\n      <td>85</td>\n      <td>[\"'alternative rock'\", \" 'funk metal'\", \" 'fun...</td>\n      <td>rock</td>\n    </tr>\n    <tr>\n      <th>...</th>\n      <td>...</td>\n      <td>...</td>\n      <td>...</td>\n      <td>...</td>\n      <td>...</td>\n      <td>...</td>\n      <td>...</td>\n      <td>...</td>\n      <td>...</td>\n      <td>...</td>\n      <td>...</td>\n      <td>...</td>\n      <td>...</td>\n      <td>...</td>\n      <td>...</td>\n      <td>...</td>\n      <td>...</td>\n      <td>...</td>\n      <td>...</td>\n      <td>...</td>\n      <td>...</td>\n    </tr>\n    <tr>\n      <th>218206</th>\n      <td>2h3DA5sidcqjywLh36RFkU</td>\n      <td>Coffee Shop</td>\n      <td>41</td>\n      <td>188933</td>\n      <td>0</td>\n      <td>['Red Hot Chili Peppers']</td>\n      <td>0L8ExT028jH3ddEcZwqJJ5</td>\n      <td>1995-09-12</td>\n      <td>0.496</td>\n      <td>0.978</td>\n      <td>...</td>\n      <td>0.589</td>\n      <td>120.898</td>\n      <td>4</td>\n      <td>0L8ExT028jH3ddEcZwqJJ5</td>\n      <td>15797256.0</td>\n      <td>['alternative rock', 'funk metal', 'funk rock'...</td>\n      <td>Red Hot Chili Peppers</td>\n      <td>85</td>\n      <td>[\"'alternative rock'\", \" 'funk metal'\", \" 'fun...</td>\n      <td>rock</td>\n    </tr>\n    <tr>\n      <th>218207</th>\n      <td>6jR4FKWiil1FrsfEMt7jqu</td>\n      <td>Pea</td>\n      <td>39</td>\n      <td>107307</td>\n      <td>1</td>\n      <td>['Red Hot Chili Peppers']</td>\n      <td>0L8ExT028jH3ddEcZwqJJ5</td>\n      <td>1995-09-12</td>\n      <td>0.609</td>\n      <td>0.111</td>\n      <td>...</td>\n      <td>0.298</td>\n      <td>177.413</td>\n      <td>4</td>\n      <td>0L8ExT028jH3ddEcZwqJJ5</td>\n      <td>15797256.0</td>\n      <td>['alternative rock', 'funk metal', 'funk rock'...</td>\n      <td>Red Hot Chili Peppers</td>\n      <td>85</td>\n      <td>[\"'alternative rock'\", \" 'funk metal'\", \" 'fun...</td>\n      <td>rock</td>\n    </tr>\n    <tr>\n      <th>218208</th>\n      <td>4VgylHaBo55VXqX4AiZiyc</td>\n      <td>Deep Kick</td>\n      <td>38</td>\n      <td>393907</td>\n      <td>1</td>\n      <td>['Red Hot Chili Peppers']</td>\n      <td>0L8ExT028jH3ddEcZwqJJ5</td>\n      <td>1995-09-12</td>\n      <td>0.464</td>\n      <td>0.918</td>\n      <td>...</td>\n      <td>0.322</td>\n      <td>117.399</td>\n      <td>4</td>\n      <td>0L8ExT028jH3ddEcZwqJJ5</td>\n      <td>15797256.0</td>\n      <td>['alternative rock', 'funk metal', 'funk rock'...</td>\n      <td>Red Hot Chili Peppers</td>\n      <td>85</td>\n      <td>[\"'alternative rock'\", \" 'funk metal'\", \" 'fun...</td>\n      <td>rock</td>\n    </tr>\n    <tr>\n      <th>218209</th>\n      <td>3cWEHEBIJzikXa9xPzMQkC</td>\n      <td>Backwoods</td>\n      <td>35</td>\n      <td>188227</td>\n      <td>0</td>\n      <td>['Red Hot Chili Peppers']</td>\n      <td>0L8ExT028jH3ddEcZwqJJ5</td>\n      <td>1987</td>\n      <td>0.578</td>\n      <td>0.957</td>\n      <td>...</td>\n      <td>0.468</td>\n      <td>111.074</td>\n      <td>4</td>\n      <td>0L8ExT028jH3ddEcZwqJJ5</td>\n      <td>15797256.0</td>\n      <td>['alternative rock', 'funk metal', 'funk rock'...</td>\n      <td>Red Hot Chili Peppers</td>\n      <td>85</td>\n      <td>[\"'alternative rock'\", \" 'funk metal'\", \" 'fun...</td>\n      <td>rock</td>\n    </tr>\n    <tr>\n      <th>218210</th>\n      <td>6ynGyjRka7Jin0xEw4Zm0k</td>\n      <td>Fortune Faded</td>\n      <td>24</td>\n      <td>201267</td>\n      <td>0</td>\n      <td>['Red Hot Chili Peppers']</td>\n      <td>0L8ExT028jH3ddEcZwqJJ5</td>\n      <td>2003-11-18</td>\n      <td>0.524</td>\n      <td>0.946</td>\n      <td>...</td>\n      <td>0.613</td>\n      <td>119.156</td>\n      <td>4</td>\n      <td>0L8ExT028jH3ddEcZwqJJ5</td>\n      <td>15797256.0</td>\n      <td>['alternative rock', 'funk metal', 'funk rock'...</td>\n      <td>Red Hot Chili Peppers</td>\n      <td>85</td>\n      <td>[\"'alternative rock'\", \" 'funk metal'\", \" 'fun...</td>\n      <td>rock</td>\n    </tr>\n  </tbody>\n</table>\n<p>169 rows × 27 columns</p>\n</div>"
     },
     "execution_count": 4,
     "metadata": {},
     "output_type": "execute_result"
    }
   ],
   "source": [
    "combinedDf.loc[combinedDf[\"artist_name\"]==\"Red Hot Chili Peppers\"]"
   ],
   "metadata": {
    "collapsed": false
   }
  },
  {
   "cell_type": "markdown",
   "source": [
    "# Combined Analysis"
   ],
   "metadata": {
    "collapsed": false
   }
  },
  {
   "cell_type": "markdown",
   "source": [
    "# Average value of energy per macro genre"
   ],
   "metadata": {
    "collapsed": false
   }
  },
  {
   "cell_type": "code",
   "execution_count": 28,
   "outputs": [
    {
     "data": {
      "application/vnd.plotly.v1+json": {
       "data": [
        {
         "alignmentgroup": "True",
         "bingroup": "x",
         "histfunc": "sum",
         "hovertemplate": "artist_genre=%{x}<br>sum of energy=%{y}<extra></extra>",
         "legendgroup": "",
         "marker": {
          "color": "#636efa",
          "pattern": {
           "shape": ""
          }
         },
         "name": "",
         "offsetgroup": "",
         "orientation": "v",
         "showlegend": false,
         "x": [
          "alternative",
          "blues",
          "country",
          "deep",
          "disco",
          "electronic",
          "folk",
          "funk",
          "hardcore",
          "hip hop",
          "house",
          "indie",
          "instrument",
          "jazz",
          "metal",
          "polka",
          "pop",
          "punk",
          "r&b",
          "rap",
          "reggae",
          "rock",
          "soul",
          "techno",
          "trance",
          "wave"
         ],
         "xaxis": "x",
         "y": [
          0.416,
          0.43,
          0.489,
          0.566,
          0.656,
          0.6455,
          0.427,
          0.651,
          0.928,
          0.688,
          0.811,
          0.599,
          0.315,
          0.328,
          0.907,
          0.505,
          0.587,
          0.863,
          0.5095000000000001,
          0.664,
          0.658,
          0.658,
          0.498,
          0.774,
          0.926,
          0.721
         ],
         "yaxis": "y",
         "type": "histogram"
        }
       ],
       "layout": {
        "template": {
         "data": {
          "histogram2dcontour": [
           {
            "type": "histogram2dcontour",
            "colorbar": {
             "outlinewidth": 0,
             "ticks": ""
            },
            "colorscale": [
             [
              0.0,
              "#0d0887"
             ],
             [
              0.1111111111111111,
              "#46039f"
             ],
             [
              0.2222222222222222,
              "#7201a8"
             ],
             [
              0.3333333333333333,
              "#9c179e"
             ],
             [
              0.4444444444444444,
              "#bd3786"
             ],
             [
              0.5555555555555556,
              "#d8576b"
             ],
             [
              0.6666666666666666,
              "#ed7953"
             ],
             [
              0.7777777777777778,
              "#fb9f3a"
             ],
             [
              0.8888888888888888,
              "#fdca26"
             ],
             [
              1.0,
              "#f0f921"
             ]
            ]
           }
          ],
          "choropleth": [
           {
            "type": "choropleth",
            "colorbar": {
             "outlinewidth": 0,
             "ticks": ""
            }
           }
          ],
          "histogram2d": [
           {
            "type": "histogram2d",
            "colorbar": {
             "outlinewidth": 0,
             "ticks": ""
            },
            "colorscale": [
             [
              0.0,
              "#0d0887"
             ],
             [
              0.1111111111111111,
              "#46039f"
             ],
             [
              0.2222222222222222,
              "#7201a8"
             ],
             [
              0.3333333333333333,
              "#9c179e"
             ],
             [
              0.4444444444444444,
              "#bd3786"
             ],
             [
              0.5555555555555556,
              "#d8576b"
             ],
             [
              0.6666666666666666,
              "#ed7953"
             ],
             [
              0.7777777777777778,
              "#fb9f3a"
             ],
             [
              0.8888888888888888,
              "#fdca26"
             ],
             [
              1.0,
              "#f0f921"
             ]
            ]
           }
          ],
          "heatmap": [
           {
            "type": "heatmap",
            "colorbar": {
             "outlinewidth": 0,
             "ticks": ""
            },
            "colorscale": [
             [
              0.0,
              "#0d0887"
             ],
             [
              0.1111111111111111,
              "#46039f"
             ],
             [
              0.2222222222222222,
              "#7201a8"
             ],
             [
              0.3333333333333333,
              "#9c179e"
             ],
             [
              0.4444444444444444,
              "#bd3786"
             ],
             [
              0.5555555555555556,
              "#d8576b"
             ],
             [
              0.6666666666666666,
              "#ed7953"
             ],
             [
              0.7777777777777778,
              "#fb9f3a"
             ],
             [
              0.8888888888888888,
              "#fdca26"
             ],
             [
              1.0,
              "#f0f921"
             ]
            ]
           }
          ],
          "heatmapgl": [
           {
            "type": "heatmapgl",
            "colorbar": {
             "outlinewidth": 0,
             "ticks": ""
            },
            "colorscale": [
             [
              0.0,
              "#0d0887"
             ],
             [
              0.1111111111111111,
              "#46039f"
             ],
             [
              0.2222222222222222,
              "#7201a8"
             ],
             [
              0.3333333333333333,
              "#9c179e"
             ],
             [
              0.4444444444444444,
              "#bd3786"
             ],
             [
              0.5555555555555556,
              "#d8576b"
             ],
             [
              0.6666666666666666,
              "#ed7953"
             ],
             [
              0.7777777777777778,
              "#fb9f3a"
             ],
             [
              0.8888888888888888,
              "#fdca26"
             ],
             [
              1.0,
              "#f0f921"
             ]
            ]
           }
          ],
          "contourcarpet": [
           {
            "type": "contourcarpet",
            "colorbar": {
             "outlinewidth": 0,
             "ticks": ""
            }
           }
          ],
          "contour": [
           {
            "type": "contour",
            "colorbar": {
             "outlinewidth": 0,
             "ticks": ""
            },
            "colorscale": [
             [
              0.0,
              "#0d0887"
             ],
             [
              0.1111111111111111,
              "#46039f"
             ],
             [
              0.2222222222222222,
              "#7201a8"
             ],
             [
              0.3333333333333333,
              "#9c179e"
             ],
             [
              0.4444444444444444,
              "#bd3786"
             ],
             [
              0.5555555555555556,
              "#d8576b"
             ],
             [
              0.6666666666666666,
              "#ed7953"
             ],
             [
              0.7777777777777778,
              "#fb9f3a"
             ],
             [
              0.8888888888888888,
              "#fdca26"
             ],
             [
              1.0,
              "#f0f921"
             ]
            ]
           }
          ],
          "surface": [
           {
            "type": "surface",
            "colorbar": {
             "outlinewidth": 0,
             "ticks": ""
            },
            "colorscale": [
             [
              0.0,
              "#0d0887"
             ],
             [
              0.1111111111111111,
              "#46039f"
             ],
             [
              0.2222222222222222,
              "#7201a8"
             ],
             [
              0.3333333333333333,
              "#9c179e"
             ],
             [
              0.4444444444444444,
              "#bd3786"
             ],
             [
              0.5555555555555556,
              "#d8576b"
             ],
             [
              0.6666666666666666,
              "#ed7953"
             ],
             [
              0.7777777777777778,
              "#fb9f3a"
             ],
             [
              0.8888888888888888,
              "#fdca26"
             ],
             [
              1.0,
              "#f0f921"
             ]
            ]
           }
          ],
          "mesh3d": [
           {
            "type": "mesh3d",
            "colorbar": {
             "outlinewidth": 0,
             "ticks": ""
            }
           }
          ],
          "scatter": [
           {
            "marker": {
             "line": {
              "color": "#283442"
             }
            },
            "type": "scatter"
           }
          ],
          "parcoords": [
           {
            "type": "parcoords",
            "line": {
             "colorbar": {
              "outlinewidth": 0,
              "ticks": ""
             }
            }
           }
          ],
          "scatterpolargl": [
           {
            "type": "scatterpolargl",
            "marker": {
             "colorbar": {
              "outlinewidth": 0,
              "ticks": ""
             }
            }
           }
          ],
          "bar": [
           {
            "error_x": {
             "color": "#f2f5fa"
            },
            "error_y": {
             "color": "#f2f5fa"
            },
            "marker": {
             "line": {
              "color": "rgb(17,17,17)",
              "width": 0.5
             },
             "pattern": {
              "fillmode": "overlay",
              "size": 10,
              "solidity": 0.2
             }
            },
            "type": "bar"
           }
          ],
          "scattergeo": [
           {
            "type": "scattergeo",
            "marker": {
             "colorbar": {
              "outlinewidth": 0,
              "ticks": ""
             }
            }
           }
          ],
          "scatterpolar": [
           {
            "type": "scatterpolar",
            "marker": {
             "colorbar": {
              "outlinewidth": 0,
              "ticks": ""
             }
            }
           }
          ],
          "histogram": [
           {
            "marker": {
             "pattern": {
              "fillmode": "overlay",
              "size": 10,
              "solidity": 0.2
             }
            },
            "type": "histogram"
           }
          ],
          "scattergl": [
           {
            "marker": {
             "line": {
              "color": "#283442"
             }
            },
            "type": "scattergl"
           }
          ],
          "scatter3d": [
           {
            "type": "scatter3d",
            "line": {
             "colorbar": {
              "outlinewidth": 0,
              "ticks": ""
             }
            },
            "marker": {
             "colorbar": {
              "outlinewidth": 0,
              "ticks": ""
             }
            }
           }
          ],
          "scattermapbox": [
           {
            "type": "scattermapbox",
            "marker": {
             "colorbar": {
              "outlinewidth": 0,
              "ticks": ""
             }
            }
           }
          ],
          "scatterternary": [
           {
            "type": "scatterternary",
            "marker": {
             "colorbar": {
              "outlinewidth": 0,
              "ticks": ""
             }
            }
           }
          ],
          "scattercarpet": [
           {
            "type": "scattercarpet",
            "marker": {
             "colorbar": {
              "outlinewidth": 0,
              "ticks": ""
             }
            }
           }
          ],
          "carpet": [
           {
            "aaxis": {
             "endlinecolor": "#A2B1C6",
             "gridcolor": "#506784",
             "linecolor": "#506784",
             "minorgridcolor": "#506784",
             "startlinecolor": "#A2B1C6"
            },
            "baxis": {
             "endlinecolor": "#A2B1C6",
             "gridcolor": "#506784",
             "linecolor": "#506784",
             "minorgridcolor": "#506784",
             "startlinecolor": "#A2B1C6"
            },
            "type": "carpet"
           }
          ],
          "table": [
           {
            "cells": {
             "fill": {
              "color": "#506784"
             },
             "line": {
              "color": "rgb(17,17,17)"
             }
            },
            "header": {
             "fill": {
              "color": "#2a3f5f"
             },
             "line": {
              "color": "rgb(17,17,17)"
             }
            },
            "type": "table"
           }
          ],
          "barpolar": [
           {
            "marker": {
             "line": {
              "color": "rgb(17,17,17)",
              "width": 0.5
             },
             "pattern": {
              "fillmode": "overlay",
              "size": 10,
              "solidity": 0.2
             }
            },
            "type": "barpolar"
           }
          ],
          "pie": [
           {
            "automargin": true,
            "type": "pie"
           }
          ]
         },
         "layout": {
          "autotypenumbers": "strict",
          "colorway": [
           "#636efa",
           "#EF553B",
           "#00cc96",
           "#ab63fa",
           "#FFA15A",
           "#19d3f3",
           "#FF6692",
           "#B6E880",
           "#FF97FF",
           "#FECB52"
          ],
          "font": {
           "color": "#f2f5fa"
          },
          "hovermode": "closest",
          "hoverlabel": {
           "align": "left"
          },
          "paper_bgcolor": "rgb(17,17,17)",
          "plot_bgcolor": "rgb(17,17,17)",
          "polar": {
           "bgcolor": "rgb(17,17,17)",
           "angularaxis": {
            "gridcolor": "#506784",
            "linecolor": "#506784",
            "ticks": ""
           },
           "radialaxis": {
            "gridcolor": "#506784",
            "linecolor": "#506784",
            "ticks": ""
           }
          },
          "ternary": {
           "bgcolor": "rgb(17,17,17)",
           "aaxis": {
            "gridcolor": "#506784",
            "linecolor": "#506784",
            "ticks": ""
           },
           "baxis": {
            "gridcolor": "#506784",
            "linecolor": "#506784",
            "ticks": ""
           },
           "caxis": {
            "gridcolor": "#506784",
            "linecolor": "#506784",
            "ticks": ""
           }
          },
          "coloraxis": {
           "colorbar": {
            "outlinewidth": 0,
            "ticks": ""
           }
          },
          "colorscale": {
           "sequential": [
            [
             0.0,
             "#0d0887"
            ],
            [
             0.1111111111111111,
             "#46039f"
            ],
            [
             0.2222222222222222,
             "#7201a8"
            ],
            [
             0.3333333333333333,
             "#9c179e"
            ],
            [
             0.4444444444444444,
             "#bd3786"
            ],
            [
             0.5555555555555556,
             "#d8576b"
            ],
            [
             0.6666666666666666,
             "#ed7953"
            ],
            [
             0.7777777777777778,
             "#fb9f3a"
            ],
            [
             0.8888888888888888,
             "#fdca26"
            ],
            [
             1.0,
             "#f0f921"
            ]
           ],
           "sequentialminus": [
            [
             0.0,
             "#0d0887"
            ],
            [
             0.1111111111111111,
             "#46039f"
            ],
            [
             0.2222222222222222,
             "#7201a8"
            ],
            [
             0.3333333333333333,
             "#9c179e"
            ],
            [
             0.4444444444444444,
             "#bd3786"
            ],
            [
             0.5555555555555556,
             "#d8576b"
            ],
            [
             0.6666666666666666,
             "#ed7953"
            ],
            [
             0.7777777777777778,
             "#fb9f3a"
            ],
            [
             0.8888888888888888,
             "#fdca26"
            ],
            [
             1.0,
             "#f0f921"
            ]
           ],
           "diverging": [
            [
             0,
             "#8e0152"
            ],
            [
             0.1,
             "#c51b7d"
            ],
            [
             0.2,
             "#de77ae"
            ],
            [
             0.3,
             "#f1b6da"
            ],
            [
             0.4,
             "#fde0ef"
            ],
            [
             0.5,
             "#f7f7f7"
            ],
            [
             0.6,
             "#e6f5d0"
            ],
            [
             0.7,
             "#b8e186"
            ],
            [
             0.8,
             "#7fbc41"
            ],
            [
             0.9,
             "#4d9221"
            ],
            [
             1,
             "#276419"
            ]
           ]
          },
          "xaxis": {
           "gridcolor": "#283442",
           "linecolor": "#506784",
           "ticks": "",
           "title": {
            "standoff": 15
           },
           "zerolinecolor": "#283442",
           "automargin": true,
           "zerolinewidth": 2
          },
          "yaxis": {
           "gridcolor": "#283442",
           "linecolor": "#506784",
           "ticks": "",
           "title": {
            "standoff": 15
           },
           "zerolinecolor": "#283442",
           "automargin": true,
           "zerolinewidth": 2
          },
          "scene": {
           "xaxis": {
            "backgroundcolor": "rgb(17,17,17)",
            "gridcolor": "#506784",
            "linecolor": "#506784",
            "showbackground": true,
            "ticks": "",
            "zerolinecolor": "#C8D4E3",
            "gridwidth": 2
           },
           "yaxis": {
            "backgroundcolor": "rgb(17,17,17)",
            "gridcolor": "#506784",
            "linecolor": "#506784",
            "showbackground": true,
            "ticks": "",
            "zerolinecolor": "#C8D4E3",
            "gridwidth": 2
           },
           "zaxis": {
            "backgroundcolor": "rgb(17,17,17)",
            "gridcolor": "#506784",
            "linecolor": "#506784",
            "showbackground": true,
            "ticks": "",
            "zerolinecolor": "#C8D4E3",
            "gridwidth": 2
           }
          },
          "shapedefaults": {
           "line": {
            "color": "#f2f5fa"
           }
          },
          "annotationdefaults": {
           "arrowcolor": "#f2f5fa",
           "arrowhead": 0,
           "arrowwidth": 1
          },
          "geo": {
           "bgcolor": "rgb(17,17,17)",
           "landcolor": "rgb(17,17,17)",
           "subunitcolor": "#506784",
           "showland": true,
           "showlakes": true,
           "lakecolor": "rgb(17,17,17)"
          },
          "title": {
           "x": 0.05
          },
          "updatemenudefaults": {
           "bgcolor": "#506784",
           "borderwidth": 0
          },
          "sliderdefaults": {
           "bgcolor": "#C8D4E3",
           "borderwidth": 1,
           "bordercolor": "rgb(17,17,17)",
           "tickwidth": 0
          },
          "mapbox": {
           "style": "dark"
          }
         }
        },
        "xaxis": {
         "anchor": "y",
         "domain": [
          0.0,
          1.0
         ],
         "title": {
          "text": "Generes"
         },
         "categoryorder": "total descending"
        },
        "yaxis": {
         "anchor": "x",
         "domain": [
          0.0,
          1.0
         ],
         "title": {
          "text": "Median of energy"
         },
         "dtick": 0.5
        },
        "legend": {
         "tracegroupgap": 0
        },
        "margin": {
         "t": 60
        },
        "barmode": "relative"
       },
       "config": {
        "plotlyServerURL": "https://plot.ly"
       }
      },
      "text/html": "<div>                            <div id=\"49e9791e-c70d-4cb3-a394-a80688b4ee44\" class=\"plotly-graph-div\" style=\"height:525px; width:100%;\"></div>            <script type=\"text/javascript\">                require([\"plotly\"], function(Plotly) {                    window.PLOTLYENV=window.PLOTLYENV || {};                                    if (document.getElementById(\"49e9791e-c70d-4cb3-a394-a80688b4ee44\")) {                    Plotly.newPlot(                        \"49e9791e-c70d-4cb3-a394-a80688b4ee44\",                        [{\"alignmentgroup\":\"True\",\"bingroup\":\"x\",\"histfunc\":\"sum\",\"hovertemplate\":\"artist_genre=%{x}<br>sum of energy=%{y}<extra></extra>\",\"legendgroup\":\"\",\"marker\":{\"color\":\"#636efa\",\"pattern\":{\"shape\":\"\"}},\"name\":\"\",\"offsetgroup\":\"\",\"orientation\":\"v\",\"showlegend\":false,\"x\":[\"alternative\",\"blues\",\"country\",\"deep\",\"disco\",\"electronic\",\"folk\",\"funk\",\"hardcore\",\"hip hop\",\"house\",\"indie\",\"instrument\",\"jazz\",\"metal\",\"polka\",\"pop\",\"punk\",\"r&b\",\"rap\",\"reggae\",\"rock\",\"soul\",\"techno\",\"trance\",\"wave\"],\"xaxis\":\"x\",\"y\":[0.416,0.43,0.489,0.566,0.656,0.6455,0.427,0.651,0.928,0.688,0.811,0.599,0.315,0.328,0.907,0.505,0.587,0.863,0.5095000000000001,0.664,0.658,0.658,0.498,0.774,0.926,0.721],\"yaxis\":\"y\",\"type\":\"histogram\"}],                        {\"template\":{\"data\":{\"histogram2dcontour\":[{\"type\":\"histogram2dcontour\",\"colorbar\":{\"outlinewidth\":0,\"ticks\":\"\"},\"colorscale\":[[0.0,\"#0d0887\"],[0.1111111111111111,\"#46039f\"],[0.2222222222222222,\"#7201a8\"],[0.3333333333333333,\"#9c179e\"],[0.4444444444444444,\"#bd3786\"],[0.5555555555555556,\"#d8576b\"],[0.6666666666666666,\"#ed7953\"],[0.7777777777777778,\"#fb9f3a\"],[0.8888888888888888,\"#fdca26\"],[1.0,\"#f0f921\"]]}],\"choropleth\":[{\"type\":\"choropleth\",\"colorbar\":{\"outlinewidth\":0,\"ticks\":\"\"}}],\"histogram2d\":[{\"type\":\"histogram2d\",\"colorbar\":{\"outlinewidth\":0,\"ticks\":\"\"},\"colorscale\":[[0.0,\"#0d0887\"],[0.1111111111111111,\"#46039f\"],[0.2222222222222222,\"#7201a8\"],[0.3333333333333333,\"#9c179e\"],[0.4444444444444444,\"#bd3786\"],[0.5555555555555556,\"#d8576b\"],[0.6666666666666666,\"#ed7953\"],[0.7777777777777778,\"#fb9f3a\"],[0.8888888888888888,\"#fdca26\"],[1.0,\"#f0f921\"]]}],\"heatmap\":[{\"type\":\"heatmap\",\"colorbar\":{\"outlinewidth\":0,\"ticks\":\"\"},\"colorscale\":[[0.0,\"#0d0887\"],[0.1111111111111111,\"#46039f\"],[0.2222222222222222,\"#7201a8\"],[0.3333333333333333,\"#9c179e\"],[0.4444444444444444,\"#bd3786\"],[0.5555555555555556,\"#d8576b\"],[0.6666666666666666,\"#ed7953\"],[0.7777777777777778,\"#fb9f3a\"],[0.8888888888888888,\"#fdca26\"],[1.0,\"#f0f921\"]]}],\"heatmapgl\":[{\"type\":\"heatmapgl\",\"colorbar\":{\"outlinewidth\":0,\"ticks\":\"\"},\"colorscale\":[[0.0,\"#0d0887\"],[0.1111111111111111,\"#46039f\"],[0.2222222222222222,\"#7201a8\"],[0.3333333333333333,\"#9c179e\"],[0.4444444444444444,\"#bd3786\"],[0.5555555555555556,\"#d8576b\"],[0.6666666666666666,\"#ed7953\"],[0.7777777777777778,\"#fb9f3a\"],[0.8888888888888888,\"#fdca26\"],[1.0,\"#f0f921\"]]}],\"contourcarpet\":[{\"type\":\"contourcarpet\",\"colorbar\":{\"outlinewidth\":0,\"ticks\":\"\"}}],\"contour\":[{\"type\":\"contour\",\"colorbar\":{\"outlinewidth\":0,\"ticks\":\"\"},\"colorscale\":[[0.0,\"#0d0887\"],[0.1111111111111111,\"#46039f\"],[0.2222222222222222,\"#7201a8\"],[0.3333333333333333,\"#9c179e\"],[0.4444444444444444,\"#bd3786\"],[0.5555555555555556,\"#d8576b\"],[0.6666666666666666,\"#ed7953\"],[0.7777777777777778,\"#fb9f3a\"],[0.8888888888888888,\"#fdca26\"],[1.0,\"#f0f921\"]]}],\"surface\":[{\"type\":\"surface\",\"colorbar\":{\"outlinewidth\":0,\"ticks\":\"\"},\"colorscale\":[[0.0,\"#0d0887\"],[0.1111111111111111,\"#46039f\"],[0.2222222222222222,\"#7201a8\"],[0.3333333333333333,\"#9c179e\"],[0.4444444444444444,\"#bd3786\"],[0.5555555555555556,\"#d8576b\"],[0.6666666666666666,\"#ed7953\"],[0.7777777777777778,\"#fb9f3a\"],[0.8888888888888888,\"#fdca26\"],[1.0,\"#f0f921\"]]}],\"mesh3d\":[{\"type\":\"mesh3d\",\"colorbar\":{\"outlinewidth\":0,\"ticks\":\"\"}}],\"scatter\":[{\"marker\":{\"line\":{\"color\":\"#283442\"}},\"type\":\"scatter\"}],\"parcoords\":[{\"type\":\"parcoords\",\"line\":{\"colorbar\":{\"outlinewidth\":0,\"ticks\":\"\"}}}],\"scatterpolargl\":[{\"type\":\"scatterpolargl\",\"marker\":{\"colorbar\":{\"outlinewidth\":0,\"ticks\":\"\"}}}],\"bar\":[{\"error_x\":{\"color\":\"#f2f5fa\"},\"error_y\":{\"color\":\"#f2f5fa\"},\"marker\":{\"line\":{\"color\":\"rgb(17,17,17)\",\"width\":0.5},\"pattern\":{\"fillmode\":\"overlay\",\"size\":10,\"solidity\":0.2}},\"type\":\"bar\"}],\"scattergeo\":[{\"type\":\"scattergeo\",\"marker\":{\"colorbar\":{\"outlinewidth\":0,\"ticks\":\"\"}}}],\"scatterpolar\":[{\"type\":\"scatterpolar\",\"marker\":{\"colorbar\":{\"outlinewidth\":0,\"ticks\":\"\"}}}],\"histogram\":[{\"marker\":{\"pattern\":{\"fillmode\":\"overlay\",\"size\":10,\"solidity\":0.2}},\"type\":\"histogram\"}],\"scattergl\":[{\"marker\":{\"line\":{\"color\":\"#283442\"}},\"type\":\"scattergl\"}],\"scatter3d\":[{\"type\":\"scatter3d\",\"line\":{\"colorbar\":{\"outlinewidth\":0,\"ticks\":\"\"}},\"marker\":{\"colorbar\":{\"outlinewidth\":0,\"ticks\":\"\"}}}],\"scattermapbox\":[{\"type\":\"scattermapbox\",\"marker\":{\"colorbar\":{\"outlinewidth\":0,\"ticks\":\"\"}}}],\"scatterternary\":[{\"type\":\"scatterternary\",\"marker\":{\"colorbar\":{\"outlinewidth\":0,\"ticks\":\"\"}}}],\"scattercarpet\":[{\"type\":\"scattercarpet\",\"marker\":{\"colorbar\":{\"outlinewidth\":0,\"ticks\":\"\"}}}],\"carpet\":[{\"aaxis\":{\"endlinecolor\":\"#A2B1C6\",\"gridcolor\":\"#506784\",\"linecolor\":\"#506784\",\"minorgridcolor\":\"#506784\",\"startlinecolor\":\"#A2B1C6\"},\"baxis\":{\"endlinecolor\":\"#A2B1C6\",\"gridcolor\":\"#506784\",\"linecolor\":\"#506784\",\"minorgridcolor\":\"#506784\",\"startlinecolor\":\"#A2B1C6\"},\"type\":\"carpet\"}],\"table\":[{\"cells\":{\"fill\":{\"color\":\"#506784\"},\"line\":{\"color\":\"rgb(17,17,17)\"}},\"header\":{\"fill\":{\"color\":\"#2a3f5f\"},\"line\":{\"color\":\"rgb(17,17,17)\"}},\"type\":\"table\"}],\"barpolar\":[{\"marker\":{\"line\":{\"color\":\"rgb(17,17,17)\",\"width\":0.5},\"pattern\":{\"fillmode\":\"overlay\",\"size\":10,\"solidity\":0.2}},\"type\":\"barpolar\"}],\"pie\":[{\"automargin\":true,\"type\":\"pie\"}]},\"layout\":{\"autotypenumbers\":\"strict\",\"colorway\":[\"#636efa\",\"#EF553B\",\"#00cc96\",\"#ab63fa\",\"#FFA15A\",\"#19d3f3\",\"#FF6692\",\"#B6E880\",\"#FF97FF\",\"#FECB52\"],\"font\":{\"color\":\"#f2f5fa\"},\"hovermode\":\"closest\",\"hoverlabel\":{\"align\":\"left\"},\"paper_bgcolor\":\"rgb(17,17,17)\",\"plot_bgcolor\":\"rgb(17,17,17)\",\"polar\":{\"bgcolor\":\"rgb(17,17,17)\",\"angularaxis\":{\"gridcolor\":\"#506784\",\"linecolor\":\"#506784\",\"ticks\":\"\"},\"radialaxis\":{\"gridcolor\":\"#506784\",\"linecolor\":\"#506784\",\"ticks\":\"\"}},\"ternary\":{\"bgcolor\":\"rgb(17,17,17)\",\"aaxis\":{\"gridcolor\":\"#506784\",\"linecolor\":\"#506784\",\"ticks\":\"\"},\"baxis\":{\"gridcolor\":\"#506784\",\"linecolor\":\"#506784\",\"ticks\":\"\"},\"caxis\":{\"gridcolor\":\"#506784\",\"linecolor\":\"#506784\",\"ticks\":\"\"}},\"coloraxis\":{\"colorbar\":{\"outlinewidth\":0,\"ticks\":\"\"}},\"colorscale\":{\"sequential\":[[0.0,\"#0d0887\"],[0.1111111111111111,\"#46039f\"],[0.2222222222222222,\"#7201a8\"],[0.3333333333333333,\"#9c179e\"],[0.4444444444444444,\"#bd3786\"],[0.5555555555555556,\"#d8576b\"],[0.6666666666666666,\"#ed7953\"],[0.7777777777777778,\"#fb9f3a\"],[0.8888888888888888,\"#fdca26\"],[1.0,\"#f0f921\"]],\"sequentialminus\":[[0.0,\"#0d0887\"],[0.1111111111111111,\"#46039f\"],[0.2222222222222222,\"#7201a8\"],[0.3333333333333333,\"#9c179e\"],[0.4444444444444444,\"#bd3786\"],[0.5555555555555556,\"#d8576b\"],[0.6666666666666666,\"#ed7953\"],[0.7777777777777778,\"#fb9f3a\"],[0.8888888888888888,\"#fdca26\"],[1.0,\"#f0f921\"]],\"diverging\":[[0,\"#8e0152\"],[0.1,\"#c51b7d\"],[0.2,\"#de77ae\"],[0.3,\"#f1b6da\"],[0.4,\"#fde0ef\"],[0.5,\"#f7f7f7\"],[0.6,\"#e6f5d0\"],[0.7,\"#b8e186\"],[0.8,\"#7fbc41\"],[0.9,\"#4d9221\"],[1,\"#276419\"]]},\"xaxis\":{\"gridcolor\":\"#283442\",\"linecolor\":\"#506784\",\"ticks\":\"\",\"title\":{\"standoff\":15},\"zerolinecolor\":\"#283442\",\"automargin\":true,\"zerolinewidth\":2},\"yaxis\":{\"gridcolor\":\"#283442\",\"linecolor\":\"#506784\",\"ticks\":\"\",\"title\":{\"standoff\":15},\"zerolinecolor\":\"#283442\",\"automargin\":true,\"zerolinewidth\":2},\"scene\":{\"xaxis\":{\"backgroundcolor\":\"rgb(17,17,17)\",\"gridcolor\":\"#506784\",\"linecolor\":\"#506784\",\"showbackground\":true,\"ticks\":\"\",\"zerolinecolor\":\"#C8D4E3\",\"gridwidth\":2},\"yaxis\":{\"backgroundcolor\":\"rgb(17,17,17)\",\"gridcolor\":\"#506784\",\"linecolor\":\"#506784\",\"showbackground\":true,\"ticks\":\"\",\"zerolinecolor\":\"#C8D4E3\",\"gridwidth\":2},\"zaxis\":{\"backgroundcolor\":\"rgb(17,17,17)\",\"gridcolor\":\"#506784\",\"linecolor\":\"#506784\",\"showbackground\":true,\"ticks\":\"\",\"zerolinecolor\":\"#C8D4E3\",\"gridwidth\":2}},\"shapedefaults\":{\"line\":{\"color\":\"#f2f5fa\"}},\"annotationdefaults\":{\"arrowcolor\":\"#f2f5fa\",\"arrowhead\":0,\"arrowwidth\":1},\"geo\":{\"bgcolor\":\"rgb(17,17,17)\",\"landcolor\":\"rgb(17,17,17)\",\"subunitcolor\":\"#506784\",\"showland\":true,\"showlakes\":true,\"lakecolor\":\"rgb(17,17,17)\"},\"title\":{\"x\":0.05},\"updatemenudefaults\":{\"bgcolor\":\"#506784\",\"borderwidth\":0},\"sliderdefaults\":{\"bgcolor\":\"#C8D4E3\",\"borderwidth\":1,\"bordercolor\":\"rgb(17,17,17)\",\"tickwidth\":0},\"mapbox\":{\"style\":\"dark\"}}},\"xaxis\":{\"anchor\":\"y\",\"domain\":[0.0,1.0],\"title\":{\"text\":\"Generes\"},\"categoryorder\":\"total descending\"},\"yaxis\":{\"anchor\":\"x\",\"domain\":[0.0,1.0],\"title\":{\"text\":\"Median of energy\"},\"dtick\":0.5},\"legend\":{\"tracegroupgap\":0},\"margin\":{\"t\":60},\"barmode\":\"relative\"},                        {\"responsive\": true}                    ).then(function(){\n                            \nvar gd = document.getElementById('49e9791e-c70d-4cb3-a394-a80688b4ee44');\nvar x = new MutationObserver(function (mutations, observer) {{\n        var display = window.getComputedStyle(gd).display;\n        if (!display || display === 'none') {{\n            console.log([gd, 'removed!']);\n            Plotly.purge(gd);\n            observer.disconnect();\n        }}\n}});\n\n// Listen for the removal of the full notebook cells\nvar notebookContainer = gd.closest('#notebook-container');\nif (notebookContainer) {{\n    x.observe(notebookContainer, {childList: true});\n}}\n\n// Listen for the clearing of the current output cell\nvar outputEl = gd.closest('.output');\nif (outputEl) {{\n    x.observe(outputEl, {childList: true});\n}}\n\n                        })                };                });            </script>        </div>"
     },
     "metadata": {},
     "output_type": "display_data"
    }
   ],
   "source": [
    "\n",
    "eneryGener=combinedDf.groupby([\"artist_genre\"],as_index=False)[\"energy\"].median()\n",
    "fig=px.histogram(eneryGener,x=\"artist_genre\",y=\"energy\")\n",
    "fig.update_xaxes(categoryorder=\"total descending\")\n",
    "fig.layout[\"xaxis\"][\"title\"]=\"Generes\"\n",
    "fig.layout[\"yaxis\"][\"title\"]=\"Median of energy\"\n",
    "fig.layout.yaxis.dtick=0.5\n",
    "fig.show()"
   ],
   "metadata": {
    "collapsed": false
   }
  },
  {
   "cell_type": "code",
   "execution_count": 102,
   "outputs": [],
   "source": [],
   "metadata": {
    "collapsed": false
   }
  }
 ],
 "metadata": {
  "kernelspec": {
   "display_name": "Python 3",
   "language": "python",
   "name": "python3"
  },
  "language_info": {
   "codemirror_mode": {
    "name": "ipython",
    "version": 2
   },
   "file_extension": ".py",
   "mimetype": "text/x-python",
   "name": "python",
   "nbconvert_exporter": "python",
   "pygments_lexer": "ipython2",
   "version": "2.7.6"
  }
 },
 "nbformat": 4,
 "nbformat_minor": 0
}
