version https://git-lfs.github.com/spec/v1
oid sha256:a52444ad8bc8cc2fd0d0103f6982d0289977c1c080cb46b2569c8153c7bf3f3a
size 30126
