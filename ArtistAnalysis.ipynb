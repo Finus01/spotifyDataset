{
 "cells": [
  {
   "cell_type": "code",
   "execution_count": 38,
   "outputs": [],
   "source": [
    "import pandas as pd;\n",
    "import numpy as np;\n",
    "import plotly.express as px\n",
    "artists=pd.read_csv(\"data/artists.csv\")\n"
   ],
   "metadata": {
    "collapsed": false
   }
  },
  {
   "cell_type": "markdown",
   "source": [
    "# Artist Dataset\n"
   ],
   "metadata": {
    "collapsed": false
   }
  },
  {
   "cell_type": "code",
   "execution_count": 39,
   "outputs": [
    {
     "data": {
      "text/plain": "                            id  followers  \\\n925181  7JJE29ubbjgYfJOQFAcPqb       10.0   \n151624  3xKvIIizveDU2e542VdHCT     6910.0   \n128667  04zQ0PKrh3c5iYkmUAGm47       10.0   \n914961  3b6Xu46myEwqKjHhCb5PFt      945.0   \n564074  0hFKM3Tcm1n3pB4NnLPMjZ      173.0   \n\n                                           genres                      name  \\\n925181                                         []                    Piltch   \n151624  ['german rock', 'psychedelic blues-rock']                      Bang   \n128667                                         []                        西瓜   \n914961                                         []  DJ Raff & Solo Di Medina   \n564074                                         []                      Aves   \n\n        popularity  \n925181           0  \n151624          22  \n128667           0  \n914961          26  \n564074          20  ",
      "text/html": "<div>\n<style scoped>\n    .dataframe tbody tr th:only-of-type {\n        vertical-align: middle;\n    }\n\n    .dataframe tbody tr th {\n        vertical-align: top;\n    }\n\n    .dataframe thead th {\n        text-align: right;\n    }\n</style>\n<table border=\"1\" class=\"dataframe\">\n  <thead>\n    <tr style=\"text-align: right;\">\n      <th></th>\n      <th>id</th>\n      <th>followers</th>\n      <th>genres</th>\n      <th>name</th>\n      <th>popularity</th>\n    </tr>\n  </thead>\n  <tbody>\n    <tr>\n      <th>925181</th>\n      <td>7JJE29ubbjgYfJOQFAcPqb</td>\n      <td>10.0</td>\n      <td>[]</td>\n      <td>Piltch</td>\n      <td>0</td>\n    </tr>\n    <tr>\n      <th>151624</th>\n      <td>3xKvIIizveDU2e542VdHCT</td>\n      <td>6910.0</td>\n      <td>['german rock', 'psychedelic blues-rock']</td>\n      <td>Bang</td>\n      <td>22</td>\n    </tr>\n    <tr>\n      <th>128667</th>\n      <td>04zQ0PKrh3c5iYkmUAGm47</td>\n      <td>10.0</td>\n      <td>[]</td>\n      <td>西瓜</td>\n      <td>0</td>\n    </tr>\n    <tr>\n      <th>914961</th>\n      <td>3b6Xu46myEwqKjHhCb5PFt</td>\n      <td>945.0</td>\n      <td>[]</td>\n      <td>DJ Raff &amp; Solo Di Medina</td>\n      <td>26</td>\n    </tr>\n    <tr>\n      <th>564074</th>\n      <td>0hFKM3Tcm1n3pB4NnLPMjZ</td>\n      <td>173.0</td>\n      <td>[]</td>\n      <td>Aves</td>\n      <td>20</td>\n    </tr>\n  </tbody>\n</table>\n</div>"
     },
     "execution_count": 39,
     "metadata": {},
     "output_type": "execute_result"
    }
   ],
   "source": [
    "artists.sample(5)"
   ],
   "metadata": {
    "collapsed": false
   }
  },
  {
   "cell_type": "markdown",
   "source": [
    "# The most popular genre"
   ],
   "metadata": {
    "collapsed": false
   }
  },
  {
   "cell_type": "code",
   "execution_count": 40,
   "outputs": [
    {
     "data": {
      "text/plain": "array(['unknown', ' \"black \\'n\\' roll\"', ' \"children\\'s choir\"', ...,\n       \"'zouk'\", \"'zurich indie'\", \"'zydeco'\"], dtype='<U41')"
     },
     "execution_count": 40,
     "metadata": {},
     "output_type": "execute_result"
    }
   ],
   "source": [
    "artists[\"TmpGenres\"]=artists[\"genres\"].apply(lambda x: x.strip('][').split(','))#convert arrays\n",
    "allGeners=np.unique(np.concatenate(artists[\"TmpGenres\"]))\n",
    "allGeners[0]=\"unknown\"\n",
    "allGeners# all geners\n"
   ],
   "metadata": {
    "collapsed": false
   }
  },
  {
   "cell_type": "code",
   "execution_count": 41,
   "outputs": [
    {
     "data": {
      "text/plain": "[(\" 'rock'\", 564),\n (\" 'pop'\", 531),\n (\" 'electro house'\", 487),\n (\" 'rap'\", 449),\n (\" 'indie rock'\", 442),\n (\" 'hip hop'\", 425),\n (\" 'pop rap'\", 418),\n (\" 'modern rock'\", 409),\n (\"'calming instrumental'\", 406),\n (\" 'tropical'\", 399),\n (\" 'pop rock'\", 389),\n (\" 'urban contemporary'\", 380),\n (\" 'country rock'\", 371),\n (\" 'indian classical'\", 366),\n (\" 'latin rock'\", 363),\n (\"'dance pop'\", 362),\n (\"'k-pop'\", 362),\n (\" 'pop dance'\", 360),\n (\"'adult standards'\", 359),\n (\" 'r&b'\", 353),\n (\" 'rock en espanol'\", 352),\n (\" 'trap'\", 351),\n (\"'background music'\", 348),\n (\" 'regional mexican'\", 347),\n (\" 'stomp and holler'\", 347),\n (\"'alternative r&b'\", 347),\n (\" 'post-teen pop'\", 340),\n (\" 'tropical house'\", 340),\n (\" 'underground hip hop'\", 336),\n (\"'alt z'\", 334),\n (\"'alternative metal'\", 334),\n (\" 'electropop'\", 332),\n (\" 'soft rock'\", 329),\n (\" 'edm'\", 328),\n (\"'latin'\", 327),\n (\" 'indie folk'\", 322),\n (\" 'mellow gold'\", 321),\n (\"'french hip hop'\", 321),\n (\"'dutch hip hop'\", 320),\n (\" 'folk rock'\", 317),\n (\"'album rock'\", 316),\n (\" 'southern hip hop'\", 313),\n (\" 'hard rock'\", 311),\n (\" 'new wave pop'\", 311),\n (\" 'pop punk'\", 311),\n (\" 'roots rock'\", 310),\n (\"'background piano'\", 307),\n (\" 'soul'\", 301),\n (\" 'modern alternative rock'\", 296),\n (\"'broadway'\", 292),\n (\" 'pop edm'\", 289),\n (\" 'trap latino'\", 289),\n (\"'corrido'\", 288),\n (\" 'folk'\", 287),\n (\" 'world worship'\", 286),\n (\" 'classic rock'\", 285),\n (\"'eurovision'\", 285),\n (\"'anthem worship'\", 282),\n (\" 'indie poptimism'\", 281),\n (\" 'europop'\", 280),\n (\" 'metal'\", 280),\n (\" 'indie pop'\", 279),\n (\" 'nuevo regional mexicano'\", 279),\n (\"'francoton'\", 279),\n (\" 'gangster rap'\", 277),\n (\"'alternative hip hop'\", 274),\n (\"'classical soprano'\", 274),\n (\"'chillhop'\", 273),\n (\" 'quiet storm'\", 270),\n (\" 'new americana'\", 269),\n (\" 'electronica'\", 268),\n (\"'c-pop'\", 262),\n (\" 'classical performance'\", 260),\n (\" 'latin pop'\", 259),\n (\"'cantautor'\", 259),\n (\"'alternative country'\", 258),\n (\"'carnaval'\", 258),\n (\" 'house'\", 256),\n (\"'fallen angel'\", 253),\n (\" 'nu metal'\", 252),\n (\"'danish hip hop'\", 252),\n ('\"children\\'s music\"', 251),\n (\"'anime'\", 251),\n (\" 'punk'\", 250),\n (\" 'south african pop'\", 250),\n (\"'classic swedish pop'\", 250),\n (\" 'metalcore'\", 248),\n (\" 'new wave'\", 248),\n (\" 'indie r&b'\", 247),\n (\" 'freak folk'\", 246),\n (\"'desi pop'\", 246),\n (\" 'lounge'\", 245),\n (\"'german hip hop'\", 245),\n (\" 'jazz'\", 244),\n (\" 'pop urbaine'\", 243),\n (\"'contemporary country'\", 243),\n (\" 'funk'\", 242),\n (\"'classical performance'\", 242),\n (\" 'ranchera'\", 241),\n (\" 'symphonic rock'\", 241),\n (\"'finnish dance pop'\", 240),\n (\"'v-pop'\", 240),\n (\" 'indie soul'\", 239),\n (\" 'minimal techno'\", 239),\n (\"'bass house'\", 239),\n (\" 'hip house'\", 238),\n (\" 'neo classical metal'\", 238),\n (\"'barnmusik'\", 237),\n (\"'opm'\", 236),\n (\" 'nu jazz'\", 235),\n (\"'funk carioca'\", 235),\n (\"'dark trap'\", 234),\n (\" 'rap francais'\", 233),\n (\" 'screamo'\", 233),\n (\" 'worship'\", 233),\n (\"'rap espanol'\", 233),\n (\" 'german rock'\", 232),\n (\"'brazilian hip hop'\", 231),\n (\" 'post-screamo'\", 230),\n (\"'baroque'\", 230),\n (\" 'symphonic power metal'\", 229),\n (\"'cali rap'\", 229),\n (\" 'tech house'\", 228),\n (\"'adoracao'\", 227),\n (\"'alternative dance'\", 226),\n (\"'indie electropop'\", 226),\n (\"'polish hip hop'\", 226),\n (\" 'reggaeton'\", 225),\n (\" 'french pop'\", 224),\n (\"'k-rap'\", 224),\n (\" 'hardcore hip hop'\", 222),\n (\" 'sertanejo universitario'\", 222),\n (\"'russelater'\", 222),\n (\"'uk drill'\", 222),\n (\" 'show tunes'\", 221),\n (\" 'sufi'\", 221),\n (\" 'uplifting trance'\", 221),\n (\"'otacore'\", 221),\n (\" 'psychedelic rock'\", 220),\n (\"'chanson'\", 220),\n (\" 'melodic metalcore'\", 219),\n (\" 'progressive house'\", 219),\n (\" 'escape room'\", 217),\n (\" 'russian pop'\", 217),\n (\"'italian hip hop'\", 217),\n (\" 'motown'\", 216),\n (\"'bubblegum dance'\", 216),\n (\" 'swedish pop'\", 215),\n (\"'deep german hip hop'\", 215),\n (\"'k-indie'\", 215),\n (\" 'rap rock'\", 214),\n (\" 'roots reggae'\", 214),\n (\" 'j-rock'\", 213),\n (\" 'lo-fi beats'\", 213),\n (\"'deep underground hip hop'\", 213),\n (\" 'indie punk'\", 212),\n (\" 'microhouse'\", 212),\n (\" 'latin hip hop'\", 211),\n (\" 'rock-and-roll'\", 211),\n (\"'german pop'\", 211),\n (\"'kindermusik'\", 211),\n (\" 'dance pop'\", 210),\n (\" 'jazz fusion'\", 210),\n (\" 'new rave'\", 210),\n (\"'lo-fi beats'\", 210),\n (\" 'vocal jazz'\", 209),\n (\"'bossa nova'\", 209),\n (\" 'melodic hardcore'\", 208),\n (\" 'mexican rock'\", 208),\n (\" 'suomi rock'\", 208),\n (\"'classic russian pop'\", 207),\n (\"'instrumental lullaby'\", 207),\n (\" 'soul jazz'\", 206),\n (\" 'post-hardcore'\", 205),\n (\"'classical guitar'\", 204),\n (\"'j-rap'\", 204),\n (\" 'ska'\", 203),\n (\" 'christian music'\", 202),\n (\"'azontobeats'\", 202),\n (\" 'country road'\", 201),\n (\" 'organic house'\", 201),\n (\"'turkish hip hop'\", 201),\n (\" 'electric blues'\", 200),\n (\" 'power metal'\", 200),\n (\" 'spanish pop'\", 200),\n (\" 'uk hip hop'\", 200),\n (\"'alternative rock'\", 200),\n (\"'disco polo'\", 200),\n (\"'filmi'\", 200),\n (\" 'mpb'\", 199),\n (\"'classic finnish pop'\", 199),\n (\" 'progressive trance'\", 198),\n (\" 'vapor twitch'\", 198),\n (\"'alternative emo'\", 198),\n (\"'deep groove house'\", 198),\n (\"'indie anthem-folk'\", 198),\n (\"'coverchill'\", 197),\n (\"'deep tropical house'\", 197),\n (\" 'vapor soul'\", 196),\n (\"'afro soul'\", 196),\n (\"'dub'\", 196),\n (\" 'latin alternative'\", 195),\n (\" 'nova mpb'\", 195),\n (\"'chinese indie'\", 195),\n (\" 'trance'\", 194),\n (\"'acoustic pop'\", 194),\n (\"'argentine indie'\", 194),\n (\"'forro'\", 194),\n (\"'hip hop tuga'\", 194),\n (\" 'art rock'\", 193),\n (\"'chill lounge'\", 193),\n (\" 'iskelma'\", 192),\n (\" 'norwegian pop'\", 192),\n (\"'canadian hip hop'\", 192),\n (\"'manele'\", 192),\n (\" 'lilith'\", 191),\n (\" 'opera'\", 191),\n (\" 'progressive rock'\", 191),\n (\"'australian alternative rock'\", 191),\n (\"'dinner jazz'\", 191),\n (\"'indie cafe pop'\", 191),\n (\" 'rumba'\", 190),\n (\"'deep latin christian'\", 190),\n (\"'emo rap'\", 189),\n (\" 'vapor trap'\", 188),\n (\" 'vocal house'\", 188),\n (\"'arab pop'\", 188),\n (\"'chill r&b'\", 188),\n (\"'dutch pop'\", 188),\n (\" 'cool jazz'\", 187),\n (\" 'dutch rock'\", 187),\n (\"'afropop'\", 187),\n (\"'epicore'\", 187),\n (\"'hip hop quebecois'\", 187),\n (\"'cumbia sonidera'\", 186),\n (\"'deep new americana'\", 186),\n (\"'social media pop'\", 186),\n (\" 'country'\", 185),\n (\" 'j-poprock'\", 185),\n (\"'christian hip hop'\", 185),\n (\"'chicano rap'\", 184),\n (\"'dancehall'\", 184),\n (\" 'dance-punk'\", 183),\n (\" 'post-disco'\", 183),\n (\"'arabesk'\", 183),\n (\"'musica para ninos'\", 183),\n (\"'kompa'\", 182),\n (\" 'filmi'\", 181),\n (\" 'neo mellow'\", 181),\n (\"'brazilian hardcore'\", 181),\n (\"'classic danish pop'\", 181),\n (\"'musica de fondo'\", 181),\n (\" 'blues rock'\", 180),\n (\" 'hardcore techno'\", 180),\n (\" 'nu gaze'\", 180),\n (\"'background jazz'\", 180),\n (\"'barnemusikk'\", 180),\n (\"'brazilian edm'\", 180),\n (\"'classic soul'\", 180),\n (\"'indonesian pop'\", 180),\n (\"'j-pop'\", 180),\n (\" 'reggae'\", 179),\n (\" 'turkish trap pop'\", 179),\n (\"'classical tenor'\", 179),\n (\"'fake'\", 179),\n (\" 'electro-industrial'\", 178),\n (\" 'liquid funk'\", 178),\n (\" 'world'\", 178),\n (\" 'indiecoustica'\", 177),\n (\" 'modern blues'\", 177),\n (\" 'neo soul'\", 177),\n (\" 'progressive bluegrass'\", 177),\n (\"'classic malaysian pop'\", 177),\n (\"'french indie pop'\", 177),\n (\"'gaming edm'\", 177),\n (\" 'samba'\", 176),\n (\"'bhangra'\", 176),\n (\"'classic israeli pop'\", 176),\n (\"'sertanejo'\", 176),\n (\" 'rawstyle'\", 175),\n (\" 'sound art'\", 175),\n (\"'axe'\", 175),\n (\"'belgian indie'\", 175),\n (\"'chinese drama ost'\", 175),\n (\"'hoerspiel'\", 175),\n (\" 'post-punk'\", 174),\n (\"'classic hardstyle'\", 174),\n (\"'classic schlager'\", 174),\n (\" 'renaissance'\", 173),\n (\"'classic italian pop'\", 173),\n (\"'detroit hip hop'\", 173),\n (\" 'contemporary classical'\", 172),\n (\"'afrikaans'\", 172),\n (\"'chilean indie'\", 172),\n (\"'german trap'\", 172),\n (\"'gymcore'\", 172),\n (\"'narodna muzika'\", 172),\n (\" 'latin'\", 171),\n (\" 'nueva cancion'\", 171),\n (\" 'skate punk'\", 171),\n (\"'albanian pop'\", 171),\n (\"'art pop'\", 171),\n (\"'mariachi'\", 171),\n (\" 'christian pop'\", 170),\n (\" 'dutch rap pop'\", 170),\n (\" 'french rock'\", 170),\n (\" 'southern soul'\", 170),\n (\"'bangla'\", 170),\n (\"'lesen'\", 170),\n (\" 'modern blues rock'\", 169),\n (\"'banda caliente'\", 169),\n (\"'deep turkish pop'\", 169),\n (\" 'industrial metal'\", 168),\n (\" 'rockabilly'\", 168),\n (\"'ambient'\", 168),\n (\"'classic hungarian pop'\", 168),\n (\"'meme rap'\", 168),\n (\"'russian dance pop'\", 168),\n (\" 'dream pop'\", 167),\n (\" 'finnish pop'\", 167),\n (\" 'happy hardcore'\", 167),\n (\"'bass trap'\", 167),\n (\"'brazilian ccm'\", 167),\n (\"'cumbia pop'\", 167),\n (\"'deep talent show'\", 167),\n (\"'kizomba'\", 167),\n (\" 'danish pop'\", 166),\n (\" 'experimental'\", 166),\n (\"'canzone napoletana'\", 166),\n (\"'classic thai pop'\", 166),\n (\"'uk alternative hip hop'\", 166),\n (\" 'schlager'\", 165),\n (\"'african gospel'\", 165),\n (\"'classic czech pop'\", 165),\n (\"'classic polish pop'\", 165),\n (\"'drum and bass'\", 165),\n (\"'mexican hip hop'\", 165),\n (\"'russian hip hop'\", 165),\n (\" 'classic iskelma'\", 164),\n (\" 'jazz funk'\", 164),\n (\" 'soundtrack'\", 164),\n (\" 'space rock'\", 164),\n (\"'finnish indie'\", 164),\n (\"'focus trance'\", 164),\n (\"'j-division'\", 164),\n (\"'aggrotech'\", 163),\n (\"'alt-idol'\", 163),\n (\"'atl hip hop'\", 163),\n (\"'bulgarian pop'\", 163),\n (\"'classic colombian pop'\", 163),\n (\"'classic sinhala pop'\", 163),\n (\"'contemporary gospel'\", 163),\n (\"'future bass'\", 163),\n (\"'german indie'\", 163),\n (\"'polish alternative'\", 163),\n (\" 'swing'\", 162),\n (\" 'turkish pop'\", 162),\n (\" 'voidgaze'\", 162),\n (\"'american classical piano'\", 162),\n (\"'cante flamenco'\", 162),\n (\"'contemporary jazz'\", 162),\n (\" 'german hip hop'\", 161),\n (\" 'russian rock'\", 161),\n (\" 'technical death metal'\", 161),\n (\"'21st century classical'\", 161),\n (\"'afro dancehall'\", 161),\n (\"'blaskapelle'\", 161),\n (\"'chinese traditional'\", 161),\n (\"'musiikkia lapsille'\", 161),\n (\" 'country pop'\", 160),\n (\" 'rhythm and blues'\", 160),\n (\"'anthem emo'\", 160),\n (\"'classic indo pop'\", 160),\n (\"'croatian pop'\", 160),\n (\"'czech hip hop'\", 160),\n (\"'rap chileno'\", 160),\n (\"'sky room'\", 160),\n (\" 'funk ostentacao'\", 159),\n (\"'bboy'\", 159),\n (\"'brazilian indie'\", 159),\n (\"'christelijk'\", 159),\n (\"'deep norteno'\", 159),\n (\"'hawaiian'\", 159),\n (\"'pop r&b'\", 159),\n (\"'praise'\", 159),\n (\"'samba-enredo'\", 159),\n (\"'vocaloid'\", 159),\n (\" 'hard bop'\", 158),\n (\"'ambient psychill'\", 158),\n (\"'chamame'\", 158),\n (\"'czech folk'\", 158),\n (\" 'christian trap'\", 157),\n (\" 'hip pop'\", 157),\n (\" 'thrash core'\", 157),\n (\"'belgian dance'\", 157),\n (\"'avant-garde jazz'\", 156),\n (\"'british choir'\", 156),\n (\"'classic icelandic pop'\", 156),\n (\"'classic portuguese pop'\", 156),\n (\"'deep house'\", 156),\n (\"'music hall'\", 156),\n (\"'swedish hip hop'\", 156),\n (\" 'ccm'\", 155),\n (\" 'traditional blues'\", 155),\n (\" 'underground rap'\", 155),\n (\"'melodipop'\", 155),\n (\"'musica gaucha tradicionalista'\", 155),\n (\"'progressive trance'\", 155),\n (\" 'new jack swing'\", 154),\n (\"'a cappella'\", 154),\n (\"'anime score'\", 154),\n (\"'celtic'\", 154),\n (\"'circuit'\", 154),\n (\"'ethnotronica'\", 154),\n (\"'musique pour enfants'\", 154),\n (\" 'death metal'\", 153),\n (\" 'german underground rap'\", 153),\n (\" 'rock nacional'\", 153),\n (\"'bubble trance'\", 153),\n (\"'canadian indie'\", 153),\n (\"'dubstep'\", 153),\n (\"'escape room'\", 153),\n (\"'latin viral pop'\", 153),\n (\"'mgp'\", 153),\n (\" 'christian alternative rock'\", 152),\n (\" 'modern country rock'\", 152),\n (\" 'neo-psychedelic'\", 152),\n (\" 'swedish trap pop'\", 152),\n (\" 'velha guarda'\", 152),\n (\"'hands up'\", 152),\n (\"'jewish pop'\", 152),\n (\" 'electronic trap'\", 151),\n (\" 'mandopop'\", 151),\n (\" 'new romantic'\", 151),\n (\"'abstract hip hop'\", 151),\n (\"'australian garage punk'\", 151),\n (\"'indonesian worship'\", 151),\n (\"'latin christian'\", 151),\n (\"'thai idol'\", 151),\n (\" 'float house'\", 150),\n (\" 'modern bollywood'\", 150),\n (\" 'post-rock'\", 150),\n (\" 'trip hop'\", 150),\n (\"'antiviral pop'\", 150),\n (\"'art rock'\", 150),\n (\"'blues'\", 150),\n (\"'country pop'\", 150),\n (\"'funk'\", 150),\n (\"'lds'\", 150),\n (\"'library music'\", 150),\n (\" 'drill and bass'\", 149),\n (\" 'gaming dubstep'\", 149),\n (\" 'garage psych'\", 149),\n (\" 'midwest emo'\", 149),\n (\" 'turntablism'\", 149),\n (\" 'volksmusik'\", 149),\n (\"'american post-rock'\", 149),\n (\"'dark post-punk'\", 149),\n (\"'deep disco'\", 149),\n (\"'fado'\", 149),\n (\"'full on'\", 149),\n (\" 'drone'\", 148),\n (\" 'progressive metal'\", 148),\n (\" 'slayer'\", 148),\n (\"'classic venezuelan pop'\", 148),\n (\"'german show tunes'\", 148),\n (\"'grime'\", 148),\n (\"'irish country'\", 148),\n (\"'neo-classical'\", 148),\n (\" 'german pop'\", 147),\n (\" 'pop emo'\", 147),\n (\" 'reggaeton flow'\", 147),\n (\" 'shoegaze'\", 147),\n (\"'big band'\", 147),\n (\"'cornetas y tambores'\", 147),\n (\"'focus beats'\", 147),\n (\"'glitchcore'\", 147),\n (\"'indie garage rock'\", 147),\n (\"'indonesian indie'\", 147),\n (\"'japanese vtuber'\", 147),\n (\" 'laiko'\", 146),\n (\"'brill building pop'\", 146),\n (\"'gypsy jazz'\", 146),\n (\"'hardvapour'\", 146),\n (\"'jawaiian'\", 146),\n (\" 'korean pop'\", 145),\n (\" 'ska punk'\", 145),\n (\"'african rock'\", 145),\n (\"'carnatic'\", 145),\n (\"'classic eurovision'\", 145),\n (\"'classic norwegian pop'\", 145),\n (\"'czsk hip hop'\", 145),\n (\"'deep smooth jazz'\", 145),\n (\"'electro bailando'\", 145),\n (\"'french movie tunes'\", 145),\n (\"'turkish trap pop'\", 145),\n (\"'uk hip hop'\", 145),\n (\" 'alternative rock'\", 144),\n (\" 'levenslied'\", 144),\n (\" 'psychedelic doom'\", 144),\n (\" 'shimmer pop'\", 144),\n (\"'balearic'\", 144),\n (\"'neo-proto'\", 144),\n (\"'pagode'\", 144),\n (\"'progressive house'\", 144),\n (\"'tape club'\", 144),\n (\" 'chill r&b'\", 143),\n (\" 'magyar alternative'\", 143),\n (\" 'sad rap'\", 143),\n (\" 'straight edge'\", 143),\n (\"'dark electro'\", 143),\n (\"'deep italo disco'\", 143),\n (\"'electro swing'\", 143),\n (\"'kodomo no ongaku'\", 143),\n (\" 'future bass'\", 142),\n (\" 'punk blues'\", 142),\n (\" 'urbano espanol'\", 142),\n (\"'appalachian folk'\", 142),\n (\"'austropop'\", 142),\n (\"'christian relaxative'\", 142),\n (\"'kirtan'\", 142),\n (\"'pop edm'\", 142),\n (\"'progressive psytrance'\", 142),\n (\" 'indie cafe pop'\", 141),\n (\" 'mexican indie'\", 141),\n (\"'bass music'\", 141),\n (\"'big beat'\", 141),\n (\"'classic persian pop'\", 141),\n (\"'classic peruvian pop'\", 141),\n (\"'j-poprock'\", 141),\n (\"'pop reggaeton'\", 141),\n (\"'tejano'\", 141),\n (\" 'focus'\", 140),\n (\" 'melodic metal'\", 140),\n (\" 'progressive electro house'\", 140),\n (\" 'stride'\", 140),\n (\" 'west coast trap'\", 140),\n (\"'belly dance'\", 140),\n (\"'chill out'\", 140),\n (\"'desi hip hop'\", 140),\n (\"'dutch indie'\", 140),\n (\"'gospel singers'\", 140),\n (\"'new comedy'\", 140),\n (\" 'christian rock'\", 139),\n (\" 'czech rock'\", 139),\n (\" 'sleaze rock'\", 139),\n (\"'boom bap'\", 139),\n (\"'classical organ'\", 139),\n (\"'dangdut'\", 139),\n (\"'vintage chanson'\", 139),\n (\" 'nigerian pop'\", 138),\n (\" 'salsa'\", 138),\n (\"'classical mezzo-soprano'\", 138),\n (\"'dansband'\", 138),\n (\"'deep pop edm'\", 138),\n (\"'greek pop'\", 138),\n (\"'kleine hoerspiel'\", 138),\n (\"'muziek voor kinderen'\", 138),\n (\"'vintage hawaiian'\", 138),\n (\" 'free jazz'\", 137),\n (\" 'hyperpop'\", 137),\n (\" 'icelandic pop'\", 137),\n (\" 'jazz saxophone'\", 137),\n (\" 'metropopolis'\", 137),\n (\" 'new comedy'\", 137),\n (\" 'otacore'\", 137),\n (\" 'symphonic metal'\", 137),\n (\"'chanson quebecois'\", 137),\n (\"'chillstep'\", 137),\n (\"'classic dutch pop'\", 137),\n (\"'french classical piano'\", 137),\n (\"'japanese instrumental'\", 137),\n (\"'kabarett'\", 137),\n (\"'orquesta tipica'\", 137),\n (\" 'afropop'\", 136),\n (\" 'irish folk'\", 136),\n (\" 'japanese alternative rock'\", 136),\n (\"'banda carnavalera'\", 136),\n (\"'classic finnish rock'\", 136),\n (\"'classic soundtrack'\", 136),\n (\"'classical cello'\", 136),\n (\"'discofox'\", 136),\n (\"'light music'\", 136),\n (\"'ambeat'\", 135),\n (\"'bebop'\", 135),\n (\"'classify'\", 135),\n (\"'deep liquid bass'\", 135),\n (\"'horrorcore'\", 135),\n (\"'string quartet'\", 135),\n (\" 'brill building pop'\", 134),\n (\" 'intelligent dance music'\", 134),\n (\" 'old school dancehall'\", 134),\n (\" 'orchestra'\", 134),\n (\" 'pop r&b'\", 134),\n (\"'australian indie'\", 134),\n (\"'c86'\", 134),\n (\"'classical flute'\", 134),\n (\"'classical'\", 134),\n (\"'french folk pop'\", 134),\n (\"'german ccm'\", 134),\n (\"'hollywood'\", 134),\n (\"'minimal tech house'\", 134),\n (\" 'easy listening'\", 133),\n (\" 'merseybeat'\", 133),\n (\" 'post-doom metal'\", 133),\n (\" 'punjabi pop'\", 133),\n (\" 'uk post-punk'\", 133),\n (\"'abstract idm'\", 133),\n (\"'accordeon'\", 133),\n (\"'afrobeat'\", 133),\n (\"'bouncy house'\", 133),\n (\"'deep psychobilly'\", 133),\n (\"'deep ragga'\", 133),\n (\"'deep rai'\", 133),\n (\"'native american'\", 133),\n (\" 'brazilian rock'\", 132),\n (\" 'old-time'\", 132),\n (\"'alternative pop'\", 132),\n (\"'brazilian reggae'\", 132),\n (\"'cumbia ranchera'\", 132),\n (\"'danspunk'\", 132),\n (\"'edm'\", 132),\n (\"'malaysian indie'\", 132),\n (\"'portland indie'\", 132),\n (\" 'finnish hip hop'\", 131),\n (\" 'french hip hop'\", 131),\n (\" 'psychedelic trance'\", 131),\n (\" 'skramz'\", 131),\n (\" 'stoner metal'\", 131),\n (\"'adoracion'\", 131),\n (\"'armenian folk'\", 131),\n (\"'austindie'\", 131),\n (\"'classic opm'\", 131),\n (\"'classic praise'\", 131),\n (\"'dark psytrance'\", 131),\n (\"'dark techno'\", 131),\n (\"'deep freestyle'\", 131),\n (\"'electro'\", 131),\n (\" 'disco'\", 130),\n (\" 'fourth world'\", 130),\n (\" 'traditional folk'\", 130),\n (\"'argentine rock'\", 130),\n (\"'australian country'\", 130),\n (\"'balkan brass'\", 130),\n (\"'banjo'\", 130),\n (\"'beatdown'\", 130),\n (\"'cello'\", 130),\n (\"'corrosion'\", 130),\n (\"'greek hip hop'\", 130),\n (\"'neo-rockabilly'\", 130),\n (\"'poetry'\", 130),\n (\" 'compositional ambient'\", 129),\n (\" 'nederpop'\", 129),\n (\" 'rock kapak'\", 129),\n (\" 'techno'\", 129),\n (\"'anime cv'\", 129),\n (\"'brazilian gospel'\", 129),\n (\"'deep smooth r&b'\", 129),\n (\"'fast melodic punk'\", 129),\n (\"'rap calme'\", 129),\n (\"'seattle indie'\", 129),\n (\"'tollywood'\", 129),\n (\" 'stoner rock'\", 128),\n (\" 'texas country'\", 128),\n (\"'baroque ensemble'\", 128),\n (\"'brooklyn indie'\", 128),\n (\"'classical bass'\", 128),\n (\"'deep hardtechno'\", 128),\n (\"'djent'\", 128),\n (\"'hard house'\", 128),\n (\"'hardstyle'\", 128),\n (\"'j-metal'\", 128),\n (\"'jumpstyle'\", 128),\n (\"'karneval'\", 128),\n (\"'kinderchor'\", 128),\n (\"'musica per bambini'\", 128),\n (\"'polish alternative rap'\", 128),\n (\" 'italian adult pop'\", 127),\n (\" 'j-division'\", 127),\n (\"'ballroom'\", 127),\n (\"'classic turkish pop'\", 127),\n (\"'classical piano trio'\", 127),\n (\"'latin alternative'\", 127),\n (\"'melodic hard rock'\", 127),\n (\"'rhythm and boogie'\", 127),\n (\"'turbo folk'\", 127),\n (\" 'indie electropop'\", 126),\n (\"'brazilian rock'\", 126),\n (\"'carnaval limburg'\", 126),\n (\"'electropop'\", 126),\n (\"'mandopop'\", 126),\n (\"'merengue'\", 126),\n (\"'norwegian pop rap'\", 126),\n (\"'polish pop'\", 126),\n (\" 'industrial'\", 125),\n (\" 'j-pop'\", 125),\n (\" 'sertanejo tradicional'\", 125),\n (\"'belgian hip hop'\", 125),\n (\"'deep progressive house'\", 125),\n (\"'fingerstyle'\", 125),\n (\"'german rock'\", 125),\n (\"'latin jazz'\", 125),\n (\"'makina'\", 125),\n (\"'oratory'\", 125),\n (\"'romantico'\", 125),\n (\"'rosary'\", 125),\n (\"'taiwan graduation song'\", 125),\n (\"'turkish folk'\", 125),\n (\" 'dirty south rap'\", 124),\n (\" 'rock steady'\", 124),\n (\"'britpop'\", 124),\n (\"'brutal death metal'\", 124),\n (\"'bubblegrunge'\", 124),\n (\"'commons'\", 124),\n (\"'mexican rock-and-roll'\", 124),\n (\"'musica infantil'\", 124),\n (\"'sami'\", 124),\n (\" 'dutch pop'\", 123),\n (\" 'emo'\", 123),\n (\" 'industrial rock'\", 123),\n (\" 'neoclassical darkwave'\", 123),\n (\" 'spanish metal'\", 123),\n (\" 'synthpop'\", 123),\n (\" 'synthwave'\", 123),\n (\"'celtic punk'\", 123),\n (\"'crossover prog'\", 123),\n (\"'doom metal'\", 123),\n (\"'latin worship'\", 123),\n (\"'modern alternative rock'\", 123),\n (\"'reggaeton flow'\", 123),\n (\" 'freakbeat'\", 122),\n (\" 'gaming edm'\", 122),\n (\" 'russian hip hop'\", 122),\n (\"'banda'\", 122),\n (\"'breakcore'\", 122),\n (\"'dark clubbing'\", 122),\n (\"'deep discofox'\", 122),\n (\"'deep euro house'\", 122),\n (\"'electro latino'\", 122),\n (\"'gabba'\", 122),\n (\"'gregorian chant'\", 122),\n (\"'indie poptimism'\", 122),\n (\"'israeli indie'\", 122),\n (\"'shabad'\", 122),\n (\"'swedish jazz orkester'\", 122),\n (\"'vintage swoon'\", 122),\n (\" 'eurodance'\", 121),\n (\" 'new french touch'\", 121),\n (\" 'post-grunge'\", 121),\n (\"'bay area hip hop'\", 121),\n (\"'black death'\", 121),\n (\"'darkstep'\", 121),\n (\"'deep funk ostentacao'\", 121),\n (\"'electro jazz'\", 121),\n (\"'environmental'\", 121),\n (\"'estonian pop'\", 121),\n (\"'german underground rap'\", 121),\n (\"'groove room'\", 121),\n (\"'new age'\", 121),\n (\"'scratch'\", 121),\n (\"'spanish hip hop'\", 121),\n (\" 'classic mandopop'\", 120),\n (\" 'pub rock'\", 120),\n (\"'ambient dub techno'\", 120),\n (\"'bachata'\", 120),\n (\"'bulgarian folk'\", 120),\n (\"'dark progressive house'\", 120),\n (\"'deconstructed club'\", 120),\n (\"'deep progressive trance'\", 120),\n (\"'goa trance'\", 120),\n (\"'japanese vgm'\", 120),\n (\"'kurdish pop'\", 120),\n (\"'panamanian pop'\", 120),\n (\"'strut'\", 120),\n (\"'vapor soul'\", 120),\n (\" 'deep regional mexican'\", 119),\n (\" 'pagode'\", 119),\n (\" 'progressive deathcore'\", 119),\n (\" 'video game music'\", 119),\n (\" 'yugoslav rock'\", 119),\n (\"'ballet class'\", 119),\n (\"'cajun'\", 119),\n (\"'classic belgian pop'\", 119),\n (\"'classic pakistani pop'\", 119),\n (\"'deep surf music'\", 119),\n (\"'galego'\", 119),\n (\"'italian disco'\", 119),\n (\"'klezmer'\", 119),\n (\"'latvian pop'\", 119),\n (\" 'gothic symphonic metal'\", 118),\n (\" 'swedish jazz'\", 118),\n (\" 'thai pop'\", 118),\n (\"'abstract beats'\", 118),\n (\"'ambient idm'\", 118),\n (\"'classic uk pop'\", 118),\n (\"'classical percussion'\", 118),\n (\"'colombian rock'\", 118),\n (\"'deep motown'\", 118),\n (\"'german oi'\", 118),\n (\"'glam metal'\", 118),\n (\"'gospel'\", 118),\n (\"'j-reggae'\", 118),\n (\"'korean ost'\", 118),\n (\"'new age piano'\", 118),\n (\" 'hiplife'\", 117),\n (\" 'indietronica'\", 117),\n (\"'aikatsu'\", 117),\n (\"'ambient fusion'\", 117),\n (\"'atmospheric post-rock'\", 117),\n (\"'c64'\", 117),\n (\"'chamber orchestra'\", 117),\n (\"'choro'\", 117),\n (\"'classical clarinet'\", 117),\n (\"'comedy'\", 117),\n (\"'deathcore'\", 117),\n (\"'deep funk house'\", 117),\n (\"'dreamo'\", 117),\n (\"'experimental dubstep'\", 117),\n (\"'finnish hip hop'\", 117),\n (\"'indonesian hip hop'\", 117),\n (\"'italian indie pop'\", 117),\n (\"'korean pop'\", 117),\n (\"'mollywood'\", 117),\n (\"'neo r&b'\", 117),\n (\"'pop flamenco'\", 117),\n (\"'rai'\", 117),\n (\"'tamil pop'\", 117),\n (\"'terrorcore'\", 117),\n (\" 'french indietronica'\", 116),\n (\" 'retro metal'\", 116),\n (\" 'scorecore'\", 116),\n (\"'ccm'\", 116),\n (\"'classic bollywood'\", 116),\n (\"'contemporary vocal jazz'\", 116),\n (\"'deep ccm'\", 116),\n (\"'hopebeat'\", 116),\n (\"'modern free jazz'\", 116),\n (\"'modern southern rock'\", 116),\n (\"'persian pop'\", 116),\n (\"'phonk'\", 116),\n (\"'relaxative'\", 116),\n (\" 'deep house'\", 115),\n (\" 'ebm'\", 115),\n (\" 'kolsche karneval'\", 115),\n (\" 'neo-synthpop'\", 115),\n (\" 'norwegian rock'\", 115),\n (\" 'singer-songwriter'\", 115),\n (\" 'twee pop'\", 115),\n (\"'british folk'\", 115),\n (\"'danseband'\", 115),\n (\"'deep disco house'\", 115),\n (\"'dixieland'\", 115),\n (\"'indie quebecois'\", 115),\n (\"'movie tunes'\", 115),\n (\"'pianissimo'\", 115),\n (\"'sertanejo pop'\", 115),\n (\"'smooth jazz'\", 115),\n (\" 'australian pop'\", 114),\n (\" 'new isolationism'\", 114),\n (\" 'outsider house'\", 114),\n (\" 'rap calme'\", 114),\n (\"'barbershop'\", 114),\n (\"'cantopop'\", 114),\n (\"'chill-out trance'\", 114),\n (\"'colombian hip hop'\", 114),\n (\"'cumbia villera'\", 114),\n (\"'deep adult standards'\", 114),\n (\"'deep g funk'\", 114),\n (\"'deep new wave'\", 114),\n (\"'deep soft rock'\", 114),\n (\"'dominican pop'\", 114),\n (\"'doo-wop'\", 114),\n (\"'ectofolk'\", 114),\n (\"'future ambient'\", 114),\n (\"'lithuanian pop'\", 114),\n (\"'metallic hardcore'\", 114),\n (\"'world chill'\", 114),\n (\" 'historically informed performance'\", 113),\n (\" 'melancholia'\", 113),\n (\"'australian underground hip hop'\", 113),\n (\"'blues rock'\", 113),\n (\"'classic city pop'\", 113),\n (\"'complextro'\", 113),\n (\"'concert band'\", 113),\n (\"'football'\", 113),\n (\"'hungarian rock'\", 113),\n (\"'israeli hip hop'\", 113),\n (\"'malay rap'\", 113),\n (\"'melodic hardcore'\", 113),\n (\"'norwegian hip hop'\", 113),\n (\"'polish punk'\", 113),\n (\"'ragga jungle'\", 113),\n (\"'svensk lovsang'\", 113),\n (\"'synthwave'\", 113),\n (\"'thai indie'\", 113),\n (\"'uk dnb'\", 113),\n (\"'zouk'\", 113),\n (\" 'bubblegum pop'\", 112),\n (\" 'comic'\", 112),\n (\" 'dansktop'\", 112),\n (\" 'indonesian pop'\", 112),\n (\" 'neon pop punk'\", 112),\n (\" 'steampunk'\", 112),\n (\" 'tamil pop'\", 112),\n (\" 'vaporwave'\", 112),\n (\"'australian dance'\", 112),\n (\"'bulgarian hip hop'\", 112),\n (\"'christmas instrumental'\", 112),\n (\"'classic garage rock'\", 112),\n (\"'malaysian pop'\", 112),\n (\"'norwegian punk'\", 112),\n (\"'shamanic'\", 112),\n (\"'swedish alternative rock'\", 112),\n (\" 'italian indie pop'\", 111),\n (\" 'spanish folk'\", 111),\n (\" 'uptempo hardcore'\", 111),\n (\" 'viral pop'\", 111),\n (\"'american choir'\", 111),\n (\"'bass trip'\", 111),\n (\"'bossa nova cover'\", 111),\n (\"'boy pop'\", 111),\n (\"'classic french pop'\", 111),\n (\"'deep brazilian pop'\", 111),\n (\"'deep hardcore'\", 111),\n (\"'didgeridoo'\", 111),\n (\"'english indie rock'\", 111),\n (\"'guggenmusik'\", 111),\n (\"'modern ska punk'\", 111),\n (\"'shonen'\", 111),\n (\"'thai pop'\", 111),\n (\" 'early music'\", 110),\n (\" 'folklore argentino'\", 110),\n (\" 'german trap'\", 110),\n (\" 'power pop'\", 110),\n (\" 'sevdah'\", 110),\n (\"'asmr'\", 110),\n (\"'bolero'\", 110),\n (\"'chinese hip hop'\", 110),\n (\"'covertrance'\", 110),\n (\"'cumbia'\", 110),\n (\"'deep chill-out'\", 110),\n (\"'disco'\", 110),\n (\"'finnish death metal'\", 110),\n (\"'hindustani classical'\", 110),\n (\"'hungarian folk'\", 110),\n (\"'indorock'\", 110),\n (\"'lounge house'\", 110),\n (\"'lovers rock'\", 110),\n (\"'mexican son'\", 110),\n (\"'norwegian indie'\", 110),\n (\"'pinoy hip hop'\", 110),\n (\"'russian classical piano'\", 110),\n (\"'southern gospel'\", 110),\n (\"'spanish new wave'\", 110),\n (\"'texas country'\", 110),\n (\"'underground rap'\", 110),\n (\"'video game music'\", 110),\n (\" 'free improvisation'\", 109),\n (\" 'hardcore punk'\", 109),\n (\" 'kleine hoerspiel'\", 109),\n (\" 'ska revival'\", 109),\n (\"'alternative pop rock'\", 109),\n (\"'american modern classical'\", 109),\n (\"'arab folk'\", 109),\n (\"'dark ambient'\", 109),\n (\"'deep power-pop punk'\", 109),\n (\"'deep uplifting trance'\", 109),\n (\"'drone psych'\", 109),\n (\"'electrofox'\", 109),\n (\"'folkmusik'\", 109),\n (\"'german street punk'\", 109),\n (\"'italian alternative'\", 109),\n (\"'j-core'\", 109),\n (\"'jazz saxophone'\", 109),\n (\"'metal guitar'\", 109),\n (\"'modern hard rock'\", 109),\n (\"'neo soul-jazz'\", 109),\n (\"'wave'\", 109),\n (\" 'gothic rock'\", 108),\n (\" 'modern hard rock'\", 108),\n (\" 'orchestral performance'\", 108),\n (\" 'peruvian rock'\", 108),\n (\" 'pinoy rock'\", 108),\n (\" 'sertanejo pop'\", 108),\n (\" 'smooth jazz'\", 108),\n (\" 'swedish metal'\", 108),\n (\"'compositional ambient'\", 108),\n (\"'garage pop'\", 108),\n (\"'gospel reggae'\", 108),\n (\"'indie emo'\", 108),\n (\"'indie jazz'\", 108),\n (\"'psychedelic blues-rock'\", 108),\n (\"'punjabi pop'\", 108),\n (\"'timba'\", 108),\n (\"'traditional funk'\", 108),\n (\"'vietnamese pop'\", 108),\n (\"'violin'\", 108),\n (\" 'art pop'\", 107),\n (\" 'jazz boom bap'\", 107),\n (\" 'lovers rock'\", 107),\n ...]"
     },
     "execution_count": 41,
     "metadata": {},
     "output_type": "execute_result"
    }
   ],
   "source": [
    "generesCount=dict.fromkeys(allGeners, 0)\n",
    "for g in artists[\"TmpGenres\"]:\n",
    "    for k in g:\n",
    "        if(k in generesCount.keys()):\n",
    "            generesCount[k]= generesCount[k] + 1\n",
    "\n",
    "sorted(generesCount.items(), key=lambda x:x[1], reverse=True)\n",
    "\n",
    "#Generes counted\n",
    "\n"
   ],
   "metadata": {
    "collapsed": false
   }
  },
  {
   "cell_type": "code",
   "execution_count": 49,
   "outputs": [
    {
     "data": {
      "text/plain": "{'alternative': 110,\n 'rock': 720,\n 'metal': 705,\n 'pop': 881,\n 'rap': 418,\n 'punk': 264,\n 'jazz': 259,\n 'latin': 50,\n 'reggae': 98,\n 'soul': 66,\n 'polka': 2,\n 'country': 62,\n 'electronic': 135,\n 'funk': 73,\n 'hip hop': 316,\n 'r&b': 45,\n 'folk': 305,\n 'house': 152,\n 'techno': 108,\n 'trance': 59,\n 'indie': 790,\n 'blues': 77,\n 'instrument': 41,\n 'disco': 22,\n 'deep': 65,\n 'deathcore': 18,\n 'hardcore': 106,\n 'core': 73,\n 'wave': 51,\n 'other': 0}"
     },
     "execution_count": 49,
     "metadata": {},
     "output_type": "execute_result"
    }
   ],
   "source": [
    "#group in macro-category\n",
    "myGeneres=generesCount.keys()\n",
    "macroGeneres=dict.fromkeys([\"alternative\",\"rock\",\"metal\",\"pop\",\"rap\",\"punk\",\"jazz\",\"latin\",\"reggae\",\"soul\",\"polka\",\"country\",\"electronic\",\"funk\",\"hip hop\",\"r&b\",\"folk\",\"house\",\"techno\",\"trance\",\"indie\",\"blues\",\"instrument\",\"electronic\",\"disco\",\"deep\",\"deathcore\",\"hardcore\",\"core\",\"wave\",\"other\"],0)\n",
    "\n",
    "for gen in myGeneres:\n",
    "    founed=False\n",
    "    for m in macroGeneres.keys():\n",
    "        if gen.find(m)!=-1:\n",
    "            founed=True\n",
    "            macroGeneres[m]+=1\n",
    "            break\n",
    "\n",
    "#we classify only the general music category (rock, pop, metal ...)\n",
    "macroGeneres"
   ],
   "metadata": {
    "collapsed": false
   }
  },
  {
   "cell_type": "code",
   "execution_count": 50,
   "outputs": [],
   "source": [
    "generesDf={'Generes':macroGeneres.keys(),'Number':macroGeneres.values()}\n",
    "\n",
    "macroGeneresDF=pd.DataFrame.from_dict(generesDf)\n",
    "macroGeneresDF=macroGeneresDF.sort_values(by=\"Number\",ascending=False)"
   ],
   "metadata": {
    "collapsed": false
   }
  },
  {
   "cell_type": "code",
   "execution_count": 52,
   "outputs": [
    {
     "data": {
      "application/vnd.plotly.v1+json": {
       "data": [
        {
         "alignmentgroup": "True",
         "bingroup": "x",
         "histfunc": "sum",
         "hovertemplate": "Generes=%{x}<br>sum of Number=%{y}<extra></extra>",
         "legendgroup": "",
         "marker": {
          "color": "#636efa",
          "pattern": {
           "shape": ""
          }
         },
         "name": "",
         "offsetgroup": "",
         "orientation": "v",
         "showlegend": false,
         "x": [
          "pop",
          "indie",
          "rock",
          "metal",
          "rap",
          "hip hop",
          "folk",
          "punk",
          "jazz",
          "house",
          "electronic",
          "alternative",
          "techno",
          "hardcore",
          "reggae",
          "blues",
          "funk",
          "core",
          "soul",
          "deep",
          "country",
          "trance",
          "wave",
          "latin",
          "r&b",
          "instrument",
          "disco",
          "deathcore",
          "polka",
          "other"
         ],
         "xaxis": "x",
         "y": [
          881,
          790,
          720,
          705,
          418,
          316,
          305,
          264,
          259,
          152,
          135,
          110,
          108,
          106,
          98,
          77,
          73,
          73,
          66,
          65,
          62,
          59,
          51,
          50,
          45,
          41,
          22,
          18,
          2,
          0
         ],
         "yaxis": "y",
         "type": "histogram"
        }
       ],
       "layout": {
        "template": {
         "data": {
          "histogram2dcontour": [
           {
            "type": "histogram2dcontour",
            "colorbar": {
             "outlinewidth": 0,
             "ticks": ""
            },
            "colorscale": [
             [
              0.0,
              "#0d0887"
             ],
             [
              0.1111111111111111,
              "#46039f"
             ],
             [
              0.2222222222222222,
              "#7201a8"
             ],
             [
              0.3333333333333333,
              "#9c179e"
             ],
             [
              0.4444444444444444,
              "#bd3786"
             ],
             [
              0.5555555555555556,
              "#d8576b"
             ],
             [
              0.6666666666666666,
              "#ed7953"
             ],
             [
              0.7777777777777778,
              "#fb9f3a"
             ],
             [
              0.8888888888888888,
              "#fdca26"
             ],
             [
              1.0,
              "#f0f921"
             ]
            ]
           }
          ],
          "choropleth": [
           {
            "type": "choropleth",
            "colorbar": {
             "outlinewidth": 0,
             "ticks": ""
            }
           }
          ],
          "histogram2d": [
           {
            "type": "histogram2d",
            "colorbar": {
             "outlinewidth": 0,
             "ticks": ""
            },
            "colorscale": [
             [
              0.0,
              "#0d0887"
             ],
             [
              0.1111111111111111,
              "#46039f"
             ],
             [
              0.2222222222222222,
              "#7201a8"
             ],
             [
              0.3333333333333333,
              "#9c179e"
             ],
             [
              0.4444444444444444,
              "#bd3786"
             ],
             [
              0.5555555555555556,
              "#d8576b"
             ],
             [
              0.6666666666666666,
              "#ed7953"
             ],
             [
              0.7777777777777778,
              "#fb9f3a"
             ],
             [
              0.8888888888888888,
              "#fdca26"
             ],
             [
              1.0,
              "#f0f921"
             ]
            ]
           }
          ],
          "heatmap": [
           {
            "type": "heatmap",
            "colorbar": {
             "outlinewidth": 0,
             "ticks": ""
            },
            "colorscale": [
             [
              0.0,
              "#0d0887"
             ],
             [
              0.1111111111111111,
              "#46039f"
             ],
             [
              0.2222222222222222,
              "#7201a8"
             ],
             [
              0.3333333333333333,
              "#9c179e"
             ],
             [
              0.4444444444444444,
              "#bd3786"
             ],
             [
              0.5555555555555556,
              "#d8576b"
             ],
             [
              0.6666666666666666,
              "#ed7953"
             ],
             [
              0.7777777777777778,
              "#fb9f3a"
             ],
             [
              0.8888888888888888,
              "#fdca26"
             ],
             [
              1.0,
              "#f0f921"
             ]
            ]
           }
          ],
          "heatmapgl": [
           {
            "type": "heatmapgl",
            "colorbar": {
             "outlinewidth": 0,
             "ticks": ""
            },
            "colorscale": [
             [
              0.0,
              "#0d0887"
             ],
             [
              0.1111111111111111,
              "#46039f"
             ],
             [
              0.2222222222222222,
              "#7201a8"
             ],
             [
              0.3333333333333333,
              "#9c179e"
             ],
             [
              0.4444444444444444,
              "#bd3786"
             ],
             [
              0.5555555555555556,
              "#d8576b"
             ],
             [
              0.6666666666666666,
              "#ed7953"
             ],
             [
              0.7777777777777778,
              "#fb9f3a"
             ],
             [
              0.8888888888888888,
              "#fdca26"
             ],
             [
              1.0,
              "#f0f921"
             ]
            ]
           }
          ],
          "contourcarpet": [
           {
            "type": "contourcarpet",
            "colorbar": {
             "outlinewidth": 0,
             "ticks": ""
            }
           }
          ],
          "contour": [
           {
            "type": "contour",
            "colorbar": {
             "outlinewidth": 0,
             "ticks": ""
            },
            "colorscale": [
             [
              0.0,
              "#0d0887"
             ],
             [
              0.1111111111111111,
              "#46039f"
             ],
             [
              0.2222222222222222,
              "#7201a8"
             ],
             [
              0.3333333333333333,
              "#9c179e"
             ],
             [
              0.4444444444444444,
              "#bd3786"
             ],
             [
              0.5555555555555556,
              "#d8576b"
             ],
             [
              0.6666666666666666,
              "#ed7953"
             ],
             [
              0.7777777777777778,
              "#fb9f3a"
             ],
             [
              0.8888888888888888,
              "#fdca26"
             ],
             [
              1.0,
              "#f0f921"
             ]
            ]
           }
          ],
          "surface": [
           {
            "type": "surface",
            "colorbar": {
             "outlinewidth": 0,
             "ticks": ""
            },
            "colorscale": [
             [
              0.0,
              "#0d0887"
             ],
             [
              0.1111111111111111,
              "#46039f"
             ],
             [
              0.2222222222222222,
              "#7201a8"
             ],
             [
              0.3333333333333333,
              "#9c179e"
             ],
             [
              0.4444444444444444,
              "#bd3786"
             ],
             [
              0.5555555555555556,
              "#d8576b"
             ],
             [
              0.6666666666666666,
              "#ed7953"
             ],
             [
              0.7777777777777778,
              "#fb9f3a"
             ],
             [
              0.8888888888888888,
              "#fdca26"
             ],
             [
              1.0,
              "#f0f921"
             ]
            ]
           }
          ],
          "mesh3d": [
           {
            "type": "mesh3d",
            "colorbar": {
             "outlinewidth": 0,
             "ticks": ""
            }
           }
          ],
          "scatter": [
           {
            "marker": {
             "line": {
              "color": "#283442"
             }
            },
            "type": "scatter"
           }
          ],
          "parcoords": [
           {
            "type": "parcoords",
            "line": {
             "colorbar": {
              "outlinewidth": 0,
              "ticks": ""
             }
            }
           }
          ],
          "scatterpolargl": [
           {
            "type": "scatterpolargl",
            "marker": {
             "colorbar": {
              "outlinewidth": 0,
              "ticks": ""
             }
            }
           }
          ],
          "bar": [
           {
            "error_x": {
             "color": "#f2f5fa"
            },
            "error_y": {
             "color": "#f2f5fa"
            },
            "marker": {
             "line": {
              "color": "rgb(17,17,17)",
              "width": 0.5
             },
             "pattern": {
              "fillmode": "overlay",
              "size": 10,
              "solidity": 0.2
             }
            },
            "type": "bar"
           }
          ],
          "scattergeo": [
           {
            "type": "scattergeo",
            "marker": {
             "colorbar": {
              "outlinewidth": 0,
              "ticks": ""
             }
            }
           }
          ],
          "scatterpolar": [
           {
            "type": "scatterpolar",
            "marker": {
             "colorbar": {
              "outlinewidth": 0,
              "ticks": ""
             }
            }
           }
          ],
          "histogram": [
           {
            "marker": {
             "pattern": {
              "fillmode": "overlay",
              "size": 10,
              "solidity": 0.2
             }
            },
            "type": "histogram"
           }
          ],
          "scattergl": [
           {
            "marker": {
             "line": {
              "color": "#283442"
             }
            },
            "type": "scattergl"
           }
          ],
          "scatter3d": [
           {
            "type": "scatter3d",
            "line": {
             "colorbar": {
              "outlinewidth": 0,
              "ticks": ""
             }
            },
            "marker": {
             "colorbar": {
              "outlinewidth": 0,
              "ticks": ""
             }
            }
           }
          ],
          "scattermapbox": [
           {
            "type": "scattermapbox",
            "marker": {
             "colorbar": {
              "outlinewidth": 0,
              "ticks": ""
             }
            }
           }
          ],
          "scatterternary": [
           {
            "type": "scatterternary",
            "marker": {
             "colorbar": {
              "outlinewidth": 0,
              "ticks": ""
             }
            }
           }
          ],
          "scattercarpet": [
           {
            "type": "scattercarpet",
            "marker": {
             "colorbar": {
              "outlinewidth": 0,
              "ticks": ""
             }
            }
           }
          ],
          "carpet": [
           {
            "aaxis": {
             "endlinecolor": "#A2B1C6",
             "gridcolor": "#506784",
             "linecolor": "#506784",
             "minorgridcolor": "#506784",
             "startlinecolor": "#A2B1C6"
            },
            "baxis": {
             "endlinecolor": "#A2B1C6",
             "gridcolor": "#506784",
             "linecolor": "#506784",
             "minorgridcolor": "#506784",
             "startlinecolor": "#A2B1C6"
            },
            "type": "carpet"
           }
          ],
          "table": [
           {
            "cells": {
             "fill": {
              "color": "#506784"
             },
             "line": {
              "color": "rgb(17,17,17)"
             }
            },
            "header": {
             "fill": {
              "color": "#2a3f5f"
             },
             "line": {
              "color": "rgb(17,17,17)"
             }
            },
            "type": "table"
           }
          ],
          "barpolar": [
           {
            "marker": {
             "line": {
              "color": "rgb(17,17,17)",
              "width": 0.5
             },
             "pattern": {
              "fillmode": "overlay",
              "size": 10,
              "solidity": 0.2
             }
            },
            "type": "barpolar"
           }
          ],
          "pie": [
           {
            "automargin": true,
            "type": "pie"
           }
          ]
         },
         "layout": {
          "autotypenumbers": "strict",
          "colorway": [
           "#636efa",
           "#EF553B",
           "#00cc96",
           "#ab63fa",
           "#FFA15A",
           "#19d3f3",
           "#FF6692",
           "#B6E880",
           "#FF97FF",
           "#FECB52"
          ],
          "font": {
           "color": "#f2f5fa"
          },
          "hovermode": "closest",
          "hoverlabel": {
           "align": "left"
          },
          "paper_bgcolor": "rgb(17,17,17)",
          "plot_bgcolor": "rgb(17,17,17)",
          "polar": {
           "bgcolor": "rgb(17,17,17)",
           "angularaxis": {
            "gridcolor": "#506784",
            "linecolor": "#506784",
            "ticks": ""
           },
           "radialaxis": {
            "gridcolor": "#506784",
            "linecolor": "#506784",
            "ticks": ""
           }
          },
          "ternary": {
           "bgcolor": "rgb(17,17,17)",
           "aaxis": {
            "gridcolor": "#506784",
            "linecolor": "#506784",
            "ticks": ""
           },
           "baxis": {
            "gridcolor": "#506784",
            "linecolor": "#506784",
            "ticks": ""
           },
           "caxis": {
            "gridcolor": "#506784",
            "linecolor": "#506784",
            "ticks": ""
           }
          },
          "coloraxis": {
           "colorbar": {
            "outlinewidth": 0,
            "ticks": ""
           }
          },
          "colorscale": {
           "sequential": [
            [
             0.0,
             "#0d0887"
            ],
            [
             0.1111111111111111,
             "#46039f"
            ],
            [
             0.2222222222222222,
             "#7201a8"
            ],
            [
             0.3333333333333333,
             "#9c179e"
            ],
            [
             0.4444444444444444,
             "#bd3786"
            ],
            [
             0.5555555555555556,
             "#d8576b"
            ],
            [
             0.6666666666666666,
             "#ed7953"
            ],
            [
             0.7777777777777778,
             "#fb9f3a"
            ],
            [
             0.8888888888888888,
             "#fdca26"
            ],
            [
             1.0,
             "#f0f921"
            ]
           ],
           "sequentialminus": [
            [
             0.0,
             "#0d0887"
            ],
            [
             0.1111111111111111,
             "#46039f"
            ],
            [
             0.2222222222222222,
             "#7201a8"
            ],
            [
             0.3333333333333333,
             "#9c179e"
            ],
            [
             0.4444444444444444,
             "#bd3786"
            ],
            [
             0.5555555555555556,
             "#d8576b"
            ],
            [
             0.6666666666666666,
             "#ed7953"
            ],
            [
             0.7777777777777778,
             "#fb9f3a"
            ],
            [
             0.8888888888888888,
             "#fdca26"
            ],
            [
             1.0,
             "#f0f921"
            ]
           ],
           "diverging": [
            [
             0,
             "#8e0152"
            ],
            [
             0.1,
             "#c51b7d"
            ],
            [
             0.2,
             "#de77ae"
            ],
            [
             0.3,
             "#f1b6da"
            ],
            [
             0.4,
             "#fde0ef"
            ],
            [
             0.5,
             "#f7f7f7"
            ],
            [
             0.6,
             "#e6f5d0"
            ],
            [
             0.7,
             "#b8e186"
            ],
            [
             0.8,
             "#7fbc41"
            ],
            [
             0.9,
             "#4d9221"
            ],
            [
             1,
             "#276419"
            ]
           ]
          },
          "xaxis": {
           "gridcolor": "#283442",
           "linecolor": "#506784",
           "ticks": "",
           "title": {
            "standoff": 15
           },
           "zerolinecolor": "#283442",
           "automargin": true,
           "zerolinewidth": 2
          },
          "yaxis": {
           "gridcolor": "#283442",
           "linecolor": "#506784",
           "ticks": "",
           "title": {
            "standoff": 15
           },
           "zerolinecolor": "#283442",
           "automargin": true,
           "zerolinewidth": 2
          },
          "scene": {
           "xaxis": {
            "backgroundcolor": "rgb(17,17,17)",
            "gridcolor": "#506784",
            "linecolor": "#506784",
            "showbackground": true,
            "ticks": "",
            "zerolinecolor": "#C8D4E3",
            "gridwidth": 2
           },
           "yaxis": {
            "backgroundcolor": "rgb(17,17,17)",
            "gridcolor": "#506784",
            "linecolor": "#506784",
            "showbackground": true,
            "ticks": "",
            "zerolinecolor": "#C8D4E3",
            "gridwidth": 2
           },
           "zaxis": {
            "backgroundcolor": "rgb(17,17,17)",
            "gridcolor": "#506784",
            "linecolor": "#506784",
            "showbackground": true,
            "ticks": "",
            "zerolinecolor": "#C8D4E3",
            "gridwidth": 2
           }
          },
          "shapedefaults": {
           "line": {
            "color": "#f2f5fa"
           }
          },
          "annotationdefaults": {
           "arrowcolor": "#f2f5fa",
           "arrowhead": 0,
           "arrowwidth": 1
          },
          "geo": {
           "bgcolor": "rgb(17,17,17)",
           "landcolor": "rgb(17,17,17)",
           "subunitcolor": "#506784",
           "showland": true,
           "showlakes": true,
           "lakecolor": "rgb(17,17,17)"
          },
          "title": {
           "x": 0.05
          },
          "updatemenudefaults": {
           "bgcolor": "#506784",
           "borderwidth": 0
          },
          "sliderdefaults": {
           "bgcolor": "#C8D4E3",
           "borderwidth": 1,
           "bordercolor": "rgb(17,17,17)",
           "tickwidth": 0
          },
          "mapbox": {
           "style": "dark"
          }
         }
        },
        "xaxis": {
         "anchor": "y",
         "domain": [
          0.0,
          1.0
         ],
         "title": {
          "text": "Generes"
         }
        },
        "yaxis": {
         "anchor": "x",
         "domain": [
          0.0,
          1.0
         ],
         "title": {
          "text": "Number of Artists"
         }
        },
        "legend": {
         "tracegroupgap": 0
        },
        "margin": {
         "t": 60
        },
        "barmode": "relative"
       },
       "config": {
        "plotlyServerURL": "https://plot.ly"
       }
      },
      "text/html": "<div>                            <div id=\"c496377b-5822-4dec-85a4-65bef9f01d48\" class=\"plotly-graph-div\" style=\"height:525px; width:100%;\"></div>            <script type=\"text/javascript\">                require([\"plotly\"], function(Plotly) {                    window.PLOTLYENV=window.PLOTLYENV || {};                                    if (document.getElementById(\"c496377b-5822-4dec-85a4-65bef9f01d48\")) {                    Plotly.newPlot(                        \"c496377b-5822-4dec-85a4-65bef9f01d48\",                        [{\"alignmentgroup\":\"True\",\"bingroup\":\"x\",\"histfunc\":\"sum\",\"hovertemplate\":\"Generes=%{x}<br>sum of Number=%{y}<extra></extra>\",\"legendgroup\":\"\",\"marker\":{\"color\":\"#636efa\",\"pattern\":{\"shape\":\"\"}},\"name\":\"\",\"offsetgroup\":\"\",\"orientation\":\"v\",\"showlegend\":false,\"x\":[\"pop\",\"indie\",\"rock\",\"metal\",\"rap\",\"hip hop\",\"folk\",\"punk\",\"jazz\",\"house\",\"electronic\",\"alternative\",\"techno\",\"hardcore\",\"reggae\",\"blues\",\"funk\",\"core\",\"soul\",\"deep\",\"country\",\"trance\",\"wave\",\"latin\",\"r&b\",\"instrument\",\"disco\",\"deathcore\",\"polka\",\"other\"],\"xaxis\":\"x\",\"y\":[881,790,720,705,418,316,305,264,259,152,135,110,108,106,98,77,73,73,66,65,62,59,51,50,45,41,22,18,2,0],\"yaxis\":\"y\",\"type\":\"histogram\"}],                        {\"template\":{\"data\":{\"histogram2dcontour\":[{\"type\":\"histogram2dcontour\",\"colorbar\":{\"outlinewidth\":0,\"ticks\":\"\"},\"colorscale\":[[0.0,\"#0d0887\"],[0.1111111111111111,\"#46039f\"],[0.2222222222222222,\"#7201a8\"],[0.3333333333333333,\"#9c179e\"],[0.4444444444444444,\"#bd3786\"],[0.5555555555555556,\"#d8576b\"],[0.6666666666666666,\"#ed7953\"],[0.7777777777777778,\"#fb9f3a\"],[0.8888888888888888,\"#fdca26\"],[1.0,\"#f0f921\"]]}],\"choropleth\":[{\"type\":\"choropleth\",\"colorbar\":{\"outlinewidth\":0,\"ticks\":\"\"}}],\"histogram2d\":[{\"type\":\"histogram2d\",\"colorbar\":{\"outlinewidth\":0,\"ticks\":\"\"},\"colorscale\":[[0.0,\"#0d0887\"],[0.1111111111111111,\"#46039f\"],[0.2222222222222222,\"#7201a8\"],[0.3333333333333333,\"#9c179e\"],[0.4444444444444444,\"#bd3786\"],[0.5555555555555556,\"#d8576b\"],[0.6666666666666666,\"#ed7953\"],[0.7777777777777778,\"#fb9f3a\"],[0.8888888888888888,\"#fdca26\"],[1.0,\"#f0f921\"]]}],\"heatmap\":[{\"type\":\"heatmap\",\"colorbar\":{\"outlinewidth\":0,\"ticks\":\"\"},\"colorscale\":[[0.0,\"#0d0887\"],[0.1111111111111111,\"#46039f\"],[0.2222222222222222,\"#7201a8\"],[0.3333333333333333,\"#9c179e\"],[0.4444444444444444,\"#bd3786\"],[0.5555555555555556,\"#d8576b\"],[0.6666666666666666,\"#ed7953\"],[0.7777777777777778,\"#fb9f3a\"],[0.8888888888888888,\"#fdca26\"],[1.0,\"#f0f921\"]]}],\"heatmapgl\":[{\"type\":\"heatmapgl\",\"colorbar\":{\"outlinewidth\":0,\"ticks\":\"\"},\"colorscale\":[[0.0,\"#0d0887\"],[0.1111111111111111,\"#46039f\"],[0.2222222222222222,\"#7201a8\"],[0.3333333333333333,\"#9c179e\"],[0.4444444444444444,\"#bd3786\"],[0.5555555555555556,\"#d8576b\"],[0.6666666666666666,\"#ed7953\"],[0.7777777777777778,\"#fb9f3a\"],[0.8888888888888888,\"#fdca26\"],[1.0,\"#f0f921\"]]}],\"contourcarpet\":[{\"type\":\"contourcarpet\",\"colorbar\":{\"outlinewidth\":0,\"ticks\":\"\"}}],\"contour\":[{\"type\":\"contour\",\"colorbar\":{\"outlinewidth\":0,\"ticks\":\"\"},\"colorscale\":[[0.0,\"#0d0887\"],[0.1111111111111111,\"#46039f\"],[0.2222222222222222,\"#7201a8\"],[0.3333333333333333,\"#9c179e\"],[0.4444444444444444,\"#bd3786\"],[0.5555555555555556,\"#d8576b\"],[0.6666666666666666,\"#ed7953\"],[0.7777777777777778,\"#fb9f3a\"],[0.8888888888888888,\"#fdca26\"],[1.0,\"#f0f921\"]]}],\"surface\":[{\"type\":\"surface\",\"colorbar\":{\"outlinewidth\":0,\"ticks\":\"\"},\"colorscale\":[[0.0,\"#0d0887\"],[0.1111111111111111,\"#46039f\"],[0.2222222222222222,\"#7201a8\"],[0.3333333333333333,\"#9c179e\"],[0.4444444444444444,\"#bd3786\"],[0.5555555555555556,\"#d8576b\"],[0.6666666666666666,\"#ed7953\"],[0.7777777777777778,\"#fb9f3a\"],[0.8888888888888888,\"#fdca26\"],[1.0,\"#f0f921\"]]}],\"mesh3d\":[{\"type\":\"mesh3d\",\"colorbar\":{\"outlinewidth\":0,\"ticks\":\"\"}}],\"scatter\":[{\"marker\":{\"line\":{\"color\":\"#283442\"}},\"type\":\"scatter\"}],\"parcoords\":[{\"type\":\"parcoords\",\"line\":{\"colorbar\":{\"outlinewidth\":0,\"ticks\":\"\"}}}],\"scatterpolargl\":[{\"type\":\"scatterpolargl\",\"marker\":{\"colorbar\":{\"outlinewidth\":0,\"ticks\":\"\"}}}],\"bar\":[{\"error_x\":{\"color\":\"#f2f5fa\"},\"error_y\":{\"color\":\"#f2f5fa\"},\"marker\":{\"line\":{\"color\":\"rgb(17,17,17)\",\"width\":0.5},\"pattern\":{\"fillmode\":\"overlay\",\"size\":10,\"solidity\":0.2}},\"type\":\"bar\"}],\"scattergeo\":[{\"type\":\"scattergeo\",\"marker\":{\"colorbar\":{\"outlinewidth\":0,\"ticks\":\"\"}}}],\"scatterpolar\":[{\"type\":\"scatterpolar\",\"marker\":{\"colorbar\":{\"outlinewidth\":0,\"ticks\":\"\"}}}],\"histogram\":[{\"marker\":{\"pattern\":{\"fillmode\":\"overlay\",\"size\":10,\"solidity\":0.2}},\"type\":\"histogram\"}],\"scattergl\":[{\"marker\":{\"line\":{\"color\":\"#283442\"}},\"type\":\"scattergl\"}],\"scatter3d\":[{\"type\":\"scatter3d\",\"line\":{\"colorbar\":{\"outlinewidth\":0,\"ticks\":\"\"}},\"marker\":{\"colorbar\":{\"outlinewidth\":0,\"ticks\":\"\"}}}],\"scattermapbox\":[{\"type\":\"scattermapbox\",\"marker\":{\"colorbar\":{\"outlinewidth\":0,\"ticks\":\"\"}}}],\"scatterternary\":[{\"type\":\"scatterternary\",\"marker\":{\"colorbar\":{\"outlinewidth\":0,\"ticks\":\"\"}}}],\"scattercarpet\":[{\"type\":\"scattercarpet\",\"marker\":{\"colorbar\":{\"outlinewidth\":0,\"ticks\":\"\"}}}],\"carpet\":[{\"aaxis\":{\"endlinecolor\":\"#A2B1C6\",\"gridcolor\":\"#506784\",\"linecolor\":\"#506784\",\"minorgridcolor\":\"#506784\",\"startlinecolor\":\"#A2B1C6\"},\"baxis\":{\"endlinecolor\":\"#A2B1C6\",\"gridcolor\":\"#506784\",\"linecolor\":\"#506784\",\"minorgridcolor\":\"#506784\",\"startlinecolor\":\"#A2B1C6\"},\"type\":\"carpet\"}],\"table\":[{\"cells\":{\"fill\":{\"color\":\"#506784\"},\"line\":{\"color\":\"rgb(17,17,17)\"}},\"header\":{\"fill\":{\"color\":\"#2a3f5f\"},\"line\":{\"color\":\"rgb(17,17,17)\"}},\"type\":\"table\"}],\"barpolar\":[{\"marker\":{\"line\":{\"color\":\"rgb(17,17,17)\",\"width\":0.5},\"pattern\":{\"fillmode\":\"overlay\",\"size\":10,\"solidity\":0.2}},\"type\":\"barpolar\"}],\"pie\":[{\"automargin\":true,\"type\":\"pie\"}]},\"layout\":{\"autotypenumbers\":\"strict\",\"colorway\":[\"#636efa\",\"#EF553B\",\"#00cc96\",\"#ab63fa\",\"#FFA15A\",\"#19d3f3\",\"#FF6692\",\"#B6E880\",\"#FF97FF\",\"#FECB52\"],\"font\":{\"color\":\"#f2f5fa\"},\"hovermode\":\"closest\",\"hoverlabel\":{\"align\":\"left\"},\"paper_bgcolor\":\"rgb(17,17,17)\",\"plot_bgcolor\":\"rgb(17,17,17)\",\"polar\":{\"bgcolor\":\"rgb(17,17,17)\",\"angularaxis\":{\"gridcolor\":\"#506784\",\"linecolor\":\"#506784\",\"ticks\":\"\"},\"radialaxis\":{\"gridcolor\":\"#506784\",\"linecolor\":\"#506784\",\"ticks\":\"\"}},\"ternary\":{\"bgcolor\":\"rgb(17,17,17)\",\"aaxis\":{\"gridcolor\":\"#506784\",\"linecolor\":\"#506784\",\"ticks\":\"\"},\"baxis\":{\"gridcolor\":\"#506784\",\"linecolor\":\"#506784\",\"ticks\":\"\"},\"caxis\":{\"gridcolor\":\"#506784\",\"linecolor\":\"#506784\",\"ticks\":\"\"}},\"coloraxis\":{\"colorbar\":{\"outlinewidth\":0,\"ticks\":\"\"}},\"colorscale\":{\"sequential\":[[0.0,\"#0d0887\"],[0.1111111111111111,\"#46039f\"],[0.2222222222222222,\"#7201a8\"],[0.3333333333333333,\"#9c179e\"],[0.4444444444444444,\"#bd3786\"],[0.5555555555555556,\"#d8576b\"],[0.6666666666666666,\"#ed7953\"],[0.7777777777777778,\"#fb9f3a\"],[0.8888888888888888,\"#fdca26\"],[1.0,\"#f0f921\"]],\"sequentialminus\":[[0.0,\"#0d0887\"],[0.1111111111111111,\"#46039f\"],[0.2222222222222222,\"#7201a8\"],[0.3333333333333333,\"#9c179e\"],[0.4444444444444444,\"#bd3786\"],[0.5555555555555556,\"#d8576b\"],[0.6666666666666666,\"#ed7953\"],[0.7777777777777778,\"#fb9f3a\"],[0.8888888888888888,\"#fdca26\"],[1.0,\"#f0f921\"]],\"diverging\":[[0,\"#8e0152\"],[0.1,\"#c51b7d\"],[0.2,\"#de77ae\"],[0.3,\"#f1b6da\"],[0.4,\"#fde0ef\"],[0.5,\"#f7f7f7\"],[0.6,\"#e6f5d0\"],[0.7,\"#b8e186\"],[0.8,\"#7fbc41\"],[0.9,\"#4d9221\"],[1,\"#276419\"]]},\"xaxis\":{\"gridcolor\":\"#283442\",\"linecolor\":\"#506784\",\"ticks\":\"\",\"title\":{\"standoff\":15},\"zerolinecolor\":\"#283442\",\"automargin\":true,\"zerolinewidth\":2},\"yaxis\":{\"gridcolor\":\"#283442\",\"linecolor\":\"#506784\",\"ticks\":\"\",\"title\":{\"standoff\":15},\"zerolinecolor\":\"#283442\",\"automargin\":true,\"zerolinewidth\":2},\"scene\":{\"xaxis\":{\"backgroundcolor\":\"rgb(17,17,17)\",\"gridcolor\":\"#506784\",\"linecolor\":\"#506784\",\"showbackground\":true,\"ticks\":\"\",\"zerolinecolor\":\"#C8D4E3\",\"gridwidth\":2},\"yaxis\":{\"backgroundcolor\":\"rgb(17,17,17)\",\"gridcolor\":\"#506784\",\"linecolor\":\"#506784\",\"showbackground\":true,\"ticks\":\"\",\"zerolinecolor\":\"#C8D4E3\",\"gridwidth\":2},\"zaxis\":{\"backgroundcolor\":\"rgb(17,17,17)\",\"gridcolor\":\"#506784\",\"linecolor\":\"#506784\",\"showbackground\":true,\"ticks\":\"\",\"zerolinecolor\":\"#C8D4E3\",\"gridwidth\":2}},\"shapedefaults\":{\"line\":{\"color\":\"#f2f5fa\"}},\"annotationdefaults\":{\"arrowcolor\":\"#f2f5fa\",\"arrowhead\":0,\"arrowwidth\":1},\"geo\":{\"bgcolor\":\"rgb(17,17,17)\",\"landcolor\":\"rgb(17,17,17)\",\"subunitcolor\":\"#506784\",\"showland\":true,\"showlakes\":true,\"lakecolor\":\"rgb(17,17,17)\"},\"title\":{\"x\":0.05},\"updatemenudefaults\":{\"bgcolor\":\"#506784\",\"borderwidth\":0},\"sliderdefaults\":{\"bgcolor\":\"#C8D4E3\",\"borderwidth\":1,\"bordercolor\":\"rgb(17,17,17)\",\"tickwidth\":0},\"mapbox\":{\"style\":\"dark\"}}},\"xaxis\":{\"anchor\":\"y\",\"domain\":[0.0,1.0],\"title\":{\"text\":\"Generes\"}},\"yaxis\":{\"anchor\":\"x\",\"domain\":[0.0,1.0],\"title\":{\"text\":\"Number of Artists\"}},\"legend\":{\"tracegroupgap\":0},\"margin\":{\"t\":60},\"barmode\":\"relative\"},                        {\"responsive\": true}                    ).then(function(){\n                            \nvar gd = document.getElementById('c496377b-5822-4dec-85a4-65bef9f01d48');\nvar x = new MutationObserver(function (mutations, observer) {{\n        var display = window.getComputedStyle(gd).display;\n        if (!display || display === 'none') {{\n            console.log([gd, 'removed!']);\n            Plotly.purge(gd);\n            observer.disconnect();\n        }}\n}});\n\n// Listen for the removal of the full notebook cells\nvar notebookContainer = gd.closest('#notebook-container');\nif (notebookContainer) {{\n    x.observe(notebookContainer, {childList: true});\n}}\n\n// Listen for the clearing of the current output cell\nvar outputEl = gd.closest('.output');\nif (outputEl) {{\n    x.observe(outputEl, {childList: true});\n}}\n\n                        })                };                });            </script>        </div>"
     },
     "metadata": {},
     "output_type": "display_data"
    }
   ],
   "source": [
    "fig=px.histogram(macroGeneresDF,x=\"Generes\",y=\"Number\")\n",
    "fig.layout[\"xaxis\"][\"title\"]=\"Generes\"\n",
    "fig.layout[\"yaxis\"][\"title\"]=\"Number of Artists\"\n",
    "fig.show()"
   ],
   "metadata": {
    "collapsed": false
   }
  }
 ],
 "metadata": {
  "kernelspec": {
   "display_name": "Python 3",
   "language": "python",
   "name": "python3"
  },
  "language_info": {
   "codemirror_mode": {
    "name": "ipython",
    "version": 2
   },
   "file_extension": ".py",
   "mimetype": "text/x-python",
   "name": "python",
   "nbconvert_exporter": "python",
   "pygments_lexer": "ipython2",
   "version": "2.7.6"
  }
 },
 "nbformat": 4,
 "nbformat_minor": 0
}
