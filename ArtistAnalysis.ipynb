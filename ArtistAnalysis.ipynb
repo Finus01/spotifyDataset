{
 "cells": [
  {
   "cell_type": "code",
   "execution_count": 2,
   "outputs": [],
   "source": [
    "import pandas as pd;\n",
    "import plotly.express as px\n",
    "artists=pd.read_csv(\"data/artists.csv\")\n"
   ],
   "metadata": {
    "collapsed": false
   }
  },
  {
   "cell_type": "markdown",
   "source": [
    "# Artist Dataset\n"
   ],
   "metadata": {
    "collapsed": false
   }
  },
  {
   "cell_type": "code",
   "execution_count": 3,
   "outputs": [
    {
     "data": {
      "text/plain": "                            id  followers                     genres  \\\n978769  7vQYQ2RIvIyHuv89VQaJjI      457.0  ['brazilian death metal']   \n742316  6uPIC6KBt8sSG0WL5GMHlS       91.0                         []   \n399322  7v14HSGMSqKh5joixTNXMr      913.0                         []   \n393479  7tjqOKwxPdmyHOh66Lmwxj        4.0                         []   \n912250  1UtW3g3nf6z7F7tIzUKWuB        4.0                         []   \n\n                 name  popularity  \n978769     Warshipper           3  \n742316  Darryl Devaio          11  \n399322      Die Säcke          12  \n393479      J. Júnior           1  \n912250         Maxíci           0  ",
      "text/html": "<div>\n<style scoped>\n    .dataframe tbody tr th:only-of-type {\n        vertical-align: middle;\n    }\n\n    .dataframe tbody tr th {\n        vertical-align: top;\n    }\n\n    .dataframe thead th {\n        text-align: right;\n    }\n</style>\n<table border=\"1\" class=\"dataframe\">\n  <thead>\n    <tr style=\"text-align: right;\">\n      <th></th>\n      <th>id</th>\n      <th>followers</th>\n      <th>genres</th>\n      <th>name</th>\n      <th>popularity</th>\n    </tr>\n  </thead>\n  <tbody>\n    <tr>\n      <th>978769</th>\n      <td>7vQYQ2RIvIyHuv89VQaJjI</td>\n      <td>457.0</td>\n      <td>['brazilian death metal']</td>\n      <td>Warshipper</td>\n      <td>3</td>\n    </tr>\n    <tr>\n      <th>742316</th>\n      <td>6uPIC6KBt8sSG0WL5GMHlS</td>\n      <td>91.0</td>\n      <td>[]</td>\n      <td>Darryl Devaio</td>\n      <td>11</td>\n    </tr>\n    <tr>\n      <th>399322</th>\n      <td>7v14HSGMSqKh5joixTNXMr</td>\n      <td>913.0</td>\n      <td>[]</td>\n      <td>Die Säcke</td>\n      <td>12</td>\n    </tr>\n    <tr>\n      <th>393479</th>\n      <td>7tjqOKwxPdmyHOh66Lmwxj</td>\n      <td>4.0</td>\n      <td>[]</td>\n      <td>J. Júnior</td>\n      <td>1</td>\n    </tr>\n    <tr>\n      <th>912250</th>\n      <td>1UtW3g3nf6z7F7tIzUKWuB</td>\n      <td>4.0</td>\n      <td>[]</td>\n      <td>Maxíci</td>\n      <td>0</td>\n    </tr>\n  </tbody>\n</table>\n</div>"
     },
     "execution_count": 3,
     "metadata": {},
     "output_type": "execute_result"
    }
   ],
   "source": [
    "artists.sample(5)"
   ],
   "metadata": {
    "collapsed": false
   }
  },
  {
   "cell_type": "markdown",
   "source": [
    "# The most popular genre"
   ],
   "metadata": {
    "collapsed": false
   }
  },
  {
   "cell_type": "code",
   "execution_count": 5,
   "outputs": [
    {
     "data": {
      "text/plain": "array(['[]', \"['carnaval cadiz']\", \"['classical harp', 'harp']\", ...,\n       \"['alternative dance', 'dance-punk', 'electrofox', 'new rave', 'swedish electropop']\",\n       \"['emoviolence', 'metallic hardcore']\",\n       \"['australian post-hardcore', 'metallic hardcore']\"], dtype=object)"
     },
     "execution_count": 5,
     "metadata": {},
     "output_type": "execute_result"
    }
   ],
   "source": [
    "geners=artists[\"genres\"].unique()\n",
    "geners"
   ],
   "metadata": {
    "collapsed": false
   }
  },
  {
   "cell_type": "code",
   "execution_count": null,
   "outputs": [],
   "source": [],
   "metadata": {
    "collapsed": false
   }
  }
 ],
 "metadata": {
  "kernelspec": {
   "display_name": "Python 3",
   "language": "python",
   "name": "python3"
  },
  "language_info": {
   "codemirror_mode": {
    "name": "ipython",
    "version": 2
   },
   "file_extension": ".py",
   "mimetype": "text/x-python",
   "name": "python",
   "nbconvert_exporter": "python",
   "pygments_lexer": "ipython2",
   "version": "2.7.6"
  }
 },
 "nbformat": 4,
 "nbformat_minor": 0
}
